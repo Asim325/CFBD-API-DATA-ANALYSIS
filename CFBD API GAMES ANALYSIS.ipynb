{
 "cells": [
  {
   "cell_type": "code",
   "execution_count": 1,
   "metadata": {
    "colab": {
     "base_uri": "https://localhost:8080/"
    },
    "id": "sy0r1MyR56Z6",
    "outputId": "dfa0a559-0e3b-4383-f142-f89bd6173a32"
   },
   "outputs": [
    {
     "name": "stdout",
     "output_type": "stream",
     "text": [
      "Requirement already satisfied: cfbd in c:\\users\\asim\\anaconda3\\lib\\site-packages (4.5.1)\n",
      "Requirement already satisfied: certifi>=2017.4.17 in c:\\users\\asim\\anaconda3\\lib\\site-packages (from cfbd) (2023.7.22)\n",
      "Requirement already satisfied: python-dateutil>=2.1 in c:\\users\\asim\\anaconda3\\lib\\site-packages (from cfbd) (2.8.2)\n",
      "Requirement already satisfied: six>=1.10 in c:\\users\\asim\\anaconda3\\lib\\site-packages (from cfbd) (1.16.0)\n",
      "Requirement already satisfied: urllib3>=1.23 in c:\\users\\asim\\anaconda3\\lib\\site-packages (from cfbd) (1.26.16)\n"
     ]
    },
    {
     "name": "stderr",
     "output_type": "stream",
     "text": [
      "WARNING: Ignoring invalid distribution -rotobuf (c:\\users\\asim\\anaconda3\\lib\\site-packages)\n",
      "WARNING: Ignoring invalid distribution -rotobuf (c:\\users\\asim\\anaconda3\\lib\\site-packages)\n"
     ]
    }
   ],
   "source": [
    "#Libraries\n",
    "!pip install cfbd"
   ]
  },
  {
   "cell_type": "code",
   "execution_count": 2,
   "metadata": {
    "id": "7SSpgHiM59JT"
   },
   "outputs": [],
   "source": [
    "import pandas as pd\n",
    "import requests\n",
    "import json\n",
    "import numpy as np\n",
    "import matplotlib.pyplot as plt\n",
    "import seaborn as sns\n",
    "import cfbd"
   ]
  },
  {
   "cell_type": "markdown",
   "metadata": {
    "id": "dx37g5p16TcG"
   },
   "source": [
    "## **1.Fetch data using API**"
   ]
  },
  {
   "cell_type": "code",
   "execution_count": 3,
   "metadata": {
    "colab": {
     "base_uri": "https://localhost:8080/"
    },
    "id": "GRVodyTG6Mtd",
    "outputId": "6be1ca5f-4ced-47e7-89b7-5297934b3719"
   },
   "outputs": [],
   "source": [
    "#import time\n",
    "api_url = \"https://api.collegefootballdata.com/games\"\n",
    "api_key = \"EVz+L65jldtrHvCQ+i0JdsT5L++1n0twubncnOC0GpnQ4cGuSSV1adci/xdbESyI\"\n",
    "# Set the Bearer token\n",
    "headers = {\n",
    "    \"Authorization\": f\"Bearer {api_key} \",\n",
    "}\n",
    "#"
   ]
  },
  {
   "cell_type": "code",
   "execution_count": 4,
   "metadata": {},
   "outputs": [
    {
     "name": "stderr",
     "output_type": "stream",
     "text": [
      "IOPub data rate exceeded.\n",
      "The notebook server will temporarily stop sending output\n",
      "to the client in order to avoid crashing it.\n",
      "To change this limit, set the config variable\n",
      "`--NotebookApp.iopub_data_rate_limit`.\n",
      "\n",
      "Current values:\n",
      "NotebookApp.iopub_data_rate_limit=1000000.0 (bytes/sec)\n",
      "NotebookApp.rate_limit_window=3.0 (secs)\n",
      "\n"
     ]
    }
   ],
   "source": [
    "# Initialize an empty list to store all the data\n",
    "alldata = []\n",
    "\n",
    "# Iterate from 2013 to 2022\n",
    "for year in range(2013, 2023 + 1):\n",
    "    # Define query parameters (start_date and end_date for the time slot)\n",
    "    params = {\n",
    "        'year': year\n",
    "    }\n",
    "\n",
    "    try:\n",
    "        # Make a GET request to the API with headers and parameters\n",
    "        response = requests.get(api_url, headers=headers, params=params)\n",
    "\n",
    "        # Check if the request was successful (status code 200)\n",
    "        if response.status_code == 200:\n",
    "            # Parse the JSON response\n",
    "            data = response.json()\n",
    "            \n",
    "            # Extend the alldata list with data for the current year\n",
    "            alldata.extend(data)\n",
    "        else:\n",
    "            # Print an error message if the request was not successful\n",
    "            print(f\"Error: Unable to fetch data for year {year}. Status Code:\", response.status_code)\n",
    "\n",
    "    except Exception as e:\n",
    "        # Handle exceptions, if any\n",
    "        print(f\"An error occurred for year {year}:\", str(e))\n",
    "\n",
    "# Print or further process the combined data\n",
    "print(json.dumps(alldata, indent=4))"
   ]
  },
  {
   "cell_type": "code",
   "execution_count": 5,
   "metadata": {
    "id": "0VjxNilQ6dD6"
   },
   "outputs": [],
   "source": [
    "#jd=json.loads(data)\n",
    "df = pd.DataFrame(alldata)"
   ]
  },
  {
   "cell_type": "code",
   "execution_count": 6,
   "metadata": {
    "colab": {
     "base_uri": "https://localhost:8080/",
     "height": 1000
    },
    "id": "mMEgoBiU70u9",
    "outputId": "6a298ab9-f216-4119-c5d5-5a4a9e1966df"
   },
   "outputs": [
    {
     "data": {
      "text/plain": [
       "<bound method NDFrame.head of               id  season  week season_type                start_date  \\\n",
       "0      332412309    2013     1     regular  2013-08-29T22:00:00.000Z   \n",
       "1      332412579    2013     1     regular  2013-08-29T22:00:00.000Z   \n",
       "2      332410154    2013     1     regular  2013-08-29T22:30:00.000Z   \n",
       "3      332412710    2013     1     regular  2013-08-29T23:00:00.000Z   \n",
       "4      332412116    2013     1     regular  2013-08-29T23:00:00.000Z   \n",
       "...          ...     ...   ...         ...                       ...   \n",
       "20836  401520444    2023    13     regular  2023-11-25T20:30:00.000Z   \n",
       "20837  401520437    2023    13     regular  2023-11-25T21:00:00.000Z   \n",
       "20838  401532630    2023    13     regular  2023-11-26T02:00:00.000Z   \n",
       "20839  401532626    2023    13     regular  2023-11-26T04:00:00.000Z   \n",
       "20840  401520445    2023    15     regular  2023-12-09T20:00:00.000Z   \n",
       "\n",
       "      start_time_tbd  completed  neutral_site  conference_game  attendance  \\\n",
       "0              False       True         False            False     20790.0   \n",
       "1               None       True         False            False     81572.0   \n",
       "2              False       True         False            False     26202.0   \n",
       "3              False       True         False            False         NaN   \n",
       "4               None       True         False            False     35115.0   \n",
       "...              ...        ...           ...              ...         ...   \n",
       "20836          False      False         False             True         NaN   \n",
       "20837          False      False         False             True         NaN   \n",
       "20838          False      False         False             True         NaN   \n",
       "20839          False      False         False             True         NaN   \n",
       "20840          False      False          True            False         NaN   \n",
       "\n",
       "       ...    away_conference away_division  away_points away_line_scores  \\\n",
       "0      ...          Big South           fcs         10.0     [0, 3, 7, 0]   \n",
       "1      ...                ACC           fbs         10.0     [0, 7, 3, 0]   \n",
       "2      ...          Big South           fcs          7.0     [7, 0, 0, 0]   \n",
       "3      ...               MEAC           fcs          9.0     [0, 6, 0, 3]   \n",
       "4      ...       Mid-American           fbs          7.0     [0, 0, 0, 7]   \n",
       "...    ...                ...           ...          ...              ...   \n",
       "20836  ...     Conference USA           fbs          NaN             None   \n",
       "20837  ...     Conference USA           fbs          NaN             None   \n",
       "20838  ...      Mountain West           fbs          NaN             None   \n",
       "20839  ...      Mountain West           fbs          NaN             None   \n",
       "20840  ...  American Athletic           fbs          NaN             None   \n",
       "\n",
       "           away_post_win_prob away_pregame_elo  away_postgame_elo  \\\n",
       "0          0.6038425390589921           1467.0             1461.0   \n",
       "1          0.3444138448668871           1638.0             1612.0   \n",
       "2      0.00021090286491187715              NaN                NaN   \n",
       "3                        None              NaN                NaN   \n",
       "4        0.004920378920123536           1144.0             1119.0   \n",
       "...                       ...              ...                ...   \n",
       "20836                    None           1572.0                NaN   \n",
       "20837                    None           1538.0                NaN   \n",
       "20838                    None           1418.0                NaN   \n",
       "20839                    None           1260.0                NaN   \n",
       "20840                    None           1349.0                NaN   \n",
       "\n",
       "      excitement_index highlights  notes  \n",
       "0                 None       None   None  \n",
       "1                 None       None   None  \n",
       "2                 None       None   None  \n",
       "3                 None       None   None  \n",
       "4                 None       None   None  \n",
       "...                ...        ...    ...  \n",
       "20836             None       None   None  \n",
       "20837             None       None   None  \n",
       "20838             None       None   None  \n",
       "20839             None       None   None  \n",
       "20840             None       None   None  \n",
       "\n",
       "[20841 rows x 33 columns]>"
      ]
     },
     "execution_count": 6,
     "metadata": {},
     "output_type": "execute_result"
    }
   ],
   "source": [
    "df.head"
   ]
  },
  {
   "cell_type": "code",
   "execution_count": 7,
   "metadata": {},
   "outputs": [
    {
     "data": {
      "text/plain": [
       "(20841, 33)"
      ]
     },
     "execution_count": 7,
     "metadata": {},
     "output_type": "execute_result"
    }
   ],
   "source": [
    "df.shape"
   ]
  },
  {
   "cell_type": "code",
   "execution_count": 8,
   "metadata": {
    "id": "jON4f-mo_Wgf"
   },
   "outputs": [],
   "source": [
    "df.to_csv('football_data.csv', index=False)\n"
   ]
  },
  {
   "cell_type": "code",
   "execution_count": 104,
   "metadata": {},
   "outputs": [
    {
     "data": {
      "text/plain": [
       "Index(['id', 'season', 'week', 'season_type', 'start_date', 'start_time_tbd',\n",
       "       'completed', 'neutral_site', 'conference_game', 'attendance',\n",
       "       'venue_id', 'venue', 'home_id', 'home_team', 'home_conference',\n",
       "       'home_division', 'home_points', 'home_line_scores',\n",
       "       'home_post_win_prob', 'home_pregame_elo', 'home_postgame_elo',\n",
       "       'away_id', 'away_team', 'away_conference', 'away_division',\n",
       "       'away_points', 'away_line_scores', 'away_post_win_prob',\n",
       "       'away_pregame_elo', 'away_postgame_elo', 'excitement_index',\n",
       "       'highlights', 'notes'],\n",
       "      dtype='object')"
      ]
     },
     "execution_count": 104,
     "metadata": {},
     "output_type": "execute_result"
    }
   ],
   "source": [
    "df.columns"
   ]
  },
  {
   "cell_type": "code",
   "execution_count": 106,
   "metadata": {},
   "outputs": [
    {
     "data": {
      "text/plain": [
       "id                        0\n",
       "season                    0\n",
       "week                      0\n",
       "season_type               0\n",
       "start_date                0\n",
       "start_time_tbd         5105\n",
       "completed                 0\n",
       "neutral_site              0\n",
       "conference_game           0\n",
       "attendance            12563\n",
       "venue_id                123\n",
       "venue                   123\n",
       "home_id                   0\n",
       "home_team                 0\n",
       "home_conference          54\n",
       "home_division            54\n",
       "home_points            1797\n",
       "home_line_scores       1797\n",
       "home_post_win_prob    11578\n",
       "home_pregame_elo      12785\n",
       "home_postgame_elo     13217\n",
       "away_id                   0\n",
       "away_team                 0\n",
       "away_conference         335\n",
       "away_division           335\n",
       "away_points            1797\n",
       "away_line_scores       1797\n",
       "away_post_win_prob    11578\n",
       "away_pregame_elo      13021\n",
       "away_postgame_elo     13453\n",
       "excitement_index      12416\n",
       "highlights            17628\n",
       "notes                 19715\n",
       "dtype: int64"
      ]
     },
     "execution_count": 106,
     "metadata": {},
     "output_type": "execute_result"
    }
   ],
   "source": [
    "df.isnull().sum()"
   ]
  },
  {
   "cell_type": "markdown",
   "metadata": {},
   "source": [
    "# 2.Export the college_football_data.csv to mysql workbench manually through wizard\n",
    "I create database through python code ,but import the data with their ctable name manually in my MYSQL workbench"
   ]
  },
  {
   "cell_type": "code",
   "execution_count": 9,
   "metadata": {},
   "outputs": [
    {
     "name": "stdout",
     "output_type": "stream",
     "text": [
      "Collecting mysql-connector-python\n",
      "  Obtaining dependency information for mysql-connector-python from https://files.pythonhosted.org/packages/24/02/a5b6271da75cd7f67d9ec834cd79c8d65c1329e1eddfb707c56ded963d3d/mysql_connector_python-8.1.0-cp38-cp38-win_amd64.whl.metadata\n",
      "  Downloading mysql_connector_python-8.1.0-cp38-cp38-win_amd64.whl.metadata (2.1 kB)\n",
      "Collecting protobuf<=4.21.12,>=4.21.1 (from mysql-connector-python)\n",
      "  Downloading protobuf-4.21.12-cp38-cp38-win_amd64.whl (527 kB)\n",
      "     ---------------------------------------- 0.0/527.0 kB ? eta -:--:--\n",
      "      --------------------------------------- 10.2/527.0 kB ? eta -:--:--\n",
      "     -- ---------------------------------- 30.7/527.0 kB 435.7 kB/s eta 0:00:02\n",
      "     -- ---------------------------------- 41.0/527.0 kB 326.8 kB/s eta 0:00:02\n",
      "     ---- -------------------------------- 61.4/527.0 kB 409.6 kB/s eta 0:00:02\n",
      "     ---------- ------------------------- 153.6/527.0 kB 762.6 kB/s eta 0:00:01\n",
      "     -------------------- ----------------- 286.7/527.0 kB 1.2 MB/s eta 0:00:01\n",
      "     ---------------------- --------------- 317.4/527.0 kB 1.0 MB/s eta 0:00:01\n",
      "     ---------------------------------- --- 481.3/527.0 kB 1.4 MB/s eta 0:00:01\n",
      "     -------------------------------------- 527.0/527.0 kB 1.4 MB/s eta 0:00:00\n",
      "Downloading mysql_connector_python-8.1.0-cp38-cp38-win_amd64.whl (10.8 MB)\n",
      "   ---------------------------------------- 0.0/10.8 MB ? eta -:--:--\n",
      "    --------------------------------------- 0.2/10.8 MB 5.9 MB/s eta 0:00:02\n",
      "   - -------------------------------------- 0.4/10.8 MB 4.2 MB/s eta 0:00:03\n",
      "   - -------------------------------------- 0.5/10.8 MB 4.3 MB/s eta 0:00:03\n",
      "   - -------------------------------------- 0.5/10.8 MB 4.3 MB/s eta 0:00:03\n",
      "   - -------------------------------------- 0.5/10.8 MB 2.6 MB/s eta 0:00:04\n",
      "   - -------------------------------------- 0.5/10.8 MB 2.6 MB/s eta 0:00:04\n",
      "   - -------------------------------------- 0.5/10.8 MB 2.6 MB/s eta 0:00:04\n",
      "   -- ------------------------------------- 0.7/10.8 MB 1.8 MB/s eta 0:00:06\n",
      "   --- ------------------------------------ 1.0/10.8 MB 2.4 MB/s eta 0:00:05\n",
      "   --- ------------------------------------ 1.0/10.8 MB 2.4 MB/s eta 0:00:05\n",
      "   --- ------------------------------------ 1.0/10.8 MB 2.4 MB/s eta 0:00:05\n",
      "   --- ------------------------------------ 1.0/10.8 MB 1.8 MB/s eta 0:00:06\n",
      "   ---- ----------------------------------- 1.1/10.8 MB 1.8 MB/s eta 0:00:06\n",
      "   ---- ----------------------------------- 1.3/10.8 MB 2.0 MB/s eta 0:00:05\n",
      "   ----- ---------------------------------- 1.4/10.8 MB 2.1 MB/s eta 0:00:05\n",
      "   ----- ---------------------------------- 1.6/10.8 MB 2.1 MB/s eta 0:00:05\n",
      "   ------ --------------------------------- 1.7/10.8 MB 2.1 MB/s eta 0:00:05\n",
      "   ------ --------------------------------- 1.7/10.8 MB 2.1 MB/s eta 0:00:05\n",
      "   ------ --------------------------------- 1.8/10.8 MB 2.0 MB/s eta 0:00:05\n",
      "   ------ --------------------------------- 1.9/10.8 MB 2.0 MB/s eta 0:00:05\n",
      "   ------- -------------------------------- 2.0/10.8 MB 2.1 MB/s eta 0:00:05\n",
      "   ------- -------------------------------- 2.1/10.8 MB 2.1 MB/s eta 0:00:05\n",
      "   -------- ------------------------------- 2.3/10.8 MB 2.1 MB/s eta 0:00:05\n",
      "   --------- ------------------------------ 2.5/10.8 MB 2.2 MB/s eta 0:00:04\n",
      "   --------- ------------------------------ 2.5/10.8 MB 2.2 MB/s eta 0:00:04\n",
      "   --------- ------------------------------ 2.6/10.8 MB 2.2 MB/s eta 0:00:04\n",
      "   --------- ------------------------------ 2.6/10.8 MB 2.2 MB/s eta 0:00:04\n",
      "   ---------- ----------------------------- 2.8/10.8 MB 2.1 MB/s eta 0:00:04\n",
      "   ---------- ----------------------------- 3.0/10.8 MB 2.2 MB/s eta 0:00:04\n",
      "   ---------- ----------------------------- 3.0/10.8 MB 2.2 MB/s eta 0:00:04\n",
      "   ---------- ----------------------------- 3.0/10.8 MB 2.2 MB/s eta 0:00:04\n",
      "   ---------- ----------------------------- 3.0/10.8 MB 2.2 MB/s eta 0:00:04\n",
      "   ------------ --------------------------- 3.3/10.8 MB 2.1 MB/s eta 0:00:04\n",
      "   ------------ --------------------------- 3.5/10.8 MB 2.2 MB/s eta 0:00:04\n",
      "   ------------ --------------------------- 3.5/10.8 MB 2.2 MB/s eta 0:00:04\n",
      "   ------------ --------------------------- 3.5/10.8 MB 2.2 MB/s eta 0:00:04\n",
      "   ------------ --------------------------- 3.5/10.8 MB 2.2 MB/s eta 0:00:04\n",
      "   ------------ --------------------------- 3.5/10.8 MB 2.2 MB/s eta 0:00:04\n",
      "   ------------ --------------------------- 3.5/10.8 MB 2.2 MB/s eta 0:00:04\n",
      "   ------------ --------------------------- 3.5/10.8 MB 2.2 MB/s eta 0:00:04\n",
      "   ------------- -------------------------- 3.5/10.8 MB 1.8 MB/s eta 0:00:04\n",
      "   ------------- -------------------------- 3.7/10.8 MB 1.9 MB/s eta 0:00:04\n",
      "   -------------- ------------------------- 3.8/10.8 MB 1.9 MB/s eta 0:00:04\n",
      "   -------------- ------------------------- 3.9/10.8 MB 1.9 MB/s eta 0:00:04\n",
      "   -------------- ------------------------- 4.0/10.8 MB 1.9 MB/s eta 0:00:04\n",
      "   ---------------- ----------------------- 4.4/10.8 MB 2.0 MB/s eta 0:00:04\n",
      "   ---------------- ----------------------- 4.5/10.8 MB 2.0 MB/s eta 0:00:04\n",
      "   ------------------ --------------------- 4.9/10.8 MB 2.2 MB/s eta 0:00:03\n",
      "   ------------------ --------------------- 5.0/10.8 MB 2.2 MB/s eta 0:00:03\n",
      "   ------------------ --------------------- 5.1/10.8 MB 2.1 MB/s eta 0:00:03\n",
      "   ------------------- -------------------- 5.4/10.8 MB 2.2 MB/s eta 0:00:03\n",
      "   -------------------- ------------------- 5.7/10.8 MB 2.3 MB/s eta 0:00:03\n",
      "   -------------------- ------------------- 5.7/10.8 MB 2.3 MB/s eta 0:00:03\n",
      "   -------------------- ------------------- 5.7/10.8 MB 2.3 MB/s eta 0:00:03\n",
      "   --------------------- ------------------ 5.8/10.8 MB 2.2 MB/s eta 0:00:03\n",
      "   ---------------------- ----------------- 6.0/10.8 MB 2.3 MB/s eta 0:00:03\n",
      "   ---------------------- ----------------- 6.1/10.8 MB 2.3 MB/s eta 0:00:03\n",
      "   ------------------------ --------------- 6.5/10.8 MB 2.4 MB/s eta 0:00:02\n",
      "   ------------------------ --------------- 6.6/10.8 MB 2.4 MB/s eta 0:00:02\n",
      "   -------------------------- ------------- 7.1/10.8 MB 2.5 MB/s eta 0:00:02\n",
      "   -------------------------- ------------- 7.3/10.8 MB 2.5 MB/s eta 0:00:02\n",
      "   --------------------------- ------------ 7.4/10.8 MB 2.5 MB/s eta 0:00:02\n",
      "   --------------------------- ------------ 7.4/10.8 MB 2.5 MB/s eta 0:00:02\n",
      "   --------------------------- ------------ 7.4/10.8 MB 2.5 MB/s eta 0:00:02\n",
      "   --------------------------- ------------ 7.4/10.8 MB 2.5 MB/s eta 0:00:02\n",
      "   --------------------------- ------------ 7.4/10.8 MB 2.5 MB/s eta 0:00:02\n",
      "   --------------------------- ------------ 7.4/10.8 MB 2.5 MB/s eta 0:00:02\n",
      "   ---------------------------- ----------- 7.7/10.8 MB 2.4 MB/s eta 0:00:02\n",
      "   ----------------------------- ---------- 8.0/10.8 MB 2.5 MB/s eta 0:00:02\n",
      "   ----------------------------- ---------- 8.0/10.8 MB 2.5 MB/s eta 0:00:02\n",
      "   ----------------------------- ---------- 8.0/10.8 MB 2.5 MB/s eta 0:00:02\n",
      "   ----------------------------- ---------- 8.0/10.8 MB 2.5 MB/s eta 0:00:02\n",
      "   ------------------------------ --------- 8.1/10.8 MB 2.4 MB/s eta 0:00:02\n",
      "   ------------------------------ --------- 8.3/10.8 MB 2.4 MB/s eta 0:00:02\n",
      "   ------------------------------ --------- 8.4/10.8 MB 2.4 MB/s eta 0:00:02\n",
      "   ------------------------------- -------- 8.4/10.8 MB 2.3 MB/s eta 0:00:02\n",
      "   ------------------------------- -------- 8.6/10.8 MB 2.4 MB/s eta 0:00:01\n",
      "   -------------------------------- ------- 8.7/10.8 MB 2.4 MB/s eta 0:00:01\n",
      "   -------------------------------- ------- 8.9/10.8 MB 2.4 MB/s eta 0:00:01\n",
      "   --------------------------------- ------ 9.0/10.8 MB 2.4 MB/s eta 0:00:01\n",
      "   --------------------------------- ------ 9.0/10.8 MB 2.4 MB/s eta 0:00:01\n",
      "   --------------------------------- ------ 9.1/10.8 MB 2.3 MB/s eta 0:00:01\n",
      "   ---------------------------------- ----- 9.3/10.8 MB 2.4 MB/s eta 0:00:01\n",
      "   ----------------------------------- ---- 9.5/10.8 MB 2.4 MB/s eta 0:00:01\n",
      "   ----------------------------------- ---- 9.5/10.8 MB 2.4 MB/s eta 0:00:01\n",
      "   ----------------------------------- ---- 9.7/10.8 MB 2.4 MB/s eta 0:00:01\n",
      "   ------------------------------------ --- 9.8/10.8 MB 2.4 MB/s eta 0:00:01\n",
      "   ------------------------------------ --- 10.0/10.8 MB 2.4 MB/s eta 0:00:01\n",
      "   ------------------------------------- -- 10.1/10.8 MB 2.4 MB/s eta 0:00:01\n",
      "   ------------------------------------- -- 10.1/10.8 MB 2.4 MB/s eta 0:00:01\n",
      "   -------------------------------------- - 10.4/10.8 MB 2.4 MB/s eta 0:00:01\n",
      "   -------------------------------------- - 10.4/10.8 MB 2.4 MB/s eta 0:00:01\n",
      "   -------------------------------------- - 10.5/10.8 MB 2.4 MB/s eta 0:00:01\n",
      "   ---------------------------------------  10.6/10.8 MB 2.3 MB/s eta 0:00:01\n",
      "   ---------------------------------------  10.8/10.8 MB 2.5 MB/s eta 0:00:01\n",
      "   ---------------------------------------  10.8/10.8 MB 2.5 MB/s eta 0:00:01\n",
      "   ---------------------------------------  10.8/10.8 MB 2.5 MB/s eta 0:00:01\n",
      "   ---------------------------------------- 10.8/10.8 MB 2.4 MB/s eta 0:00:00\n",
      "Installing collected packages: protobuf, mysql-connector-python\n",
      "  Attempting uninstall: protobuf\n",
      "    Found existing installation: protobuf 3.20.3\n",
      "    Uninstalling protobuf-3.20.3:\n",
      "      Successfully uninstalled protobuf-3.20.3\n",
      "Successfully installed mysql-connector-python-8.1.0 protobuf-4.21.12\n"
     ]
    },
    {
     "name": "stderr",
     "output_type": "stream",
     "text": [
      "WARNING: Ignoring invalid distribution -rotobuf (c:\\users\\asim\\anaconda3\\lib\\site-packages)\n",
      "WARNING: Ignoring invalid distribution -rotobuf (c:\\users\\asim\\anaconda3\\lib\\site-packages)\n",
      "ERROR: pip's dependency resolver does not currently take into account all the packages that are installed. This behaviour is the source of the following dependency conflicts.\n",
      "mediapipe 0.10.5 requires protobuf<4,>=3.11, but you have protobuf 4.21.12 which is incompatible.\n",
      "tensorboard 2.9.1 requires protobuf<3.20,>=3.9.2, but you have protobuf 4.21.12 which is incompatible.\n",
      "tensorflow 2.9.1 requires flatbuffers<2,>=1.12, but you have flatbuffers 23.5.26 which is incompatible.\n",
      "tensorflow 2.9.1 requires protobuf<3.20,>=3.9.2, but you have protobuf 4.21.12 which is incompatible.\n"
     ]
    }
   ],
   "source": [
    "!pip install mysql-connector-python\n"
   ]
  },
  {
   "cell_type": "code",
   "execution_count": 107,
   "metadata": {},
   "outputs": [],
   "source": [
    "import mysql.connector\n",
    "from mysql.connector import Error"
   ]
  },
  {
   "cell_type": "code",
   "execution_count": 3,
   "metadata": {},
   "outputs": [
    {
     "name": "stderr",
     "output_type": "stream",
     "text": [
      "C:\\Users\\ASIM\\AppData\\Local\\Temp\\ipykernel_7748\\3309586768.py:2: DtypeWarning: Columns (5,31) have mixed types. Specify dtype option on import or set low_memory=False.\n",
      "  data = pd.read_csv(csv_file_path)\n"
     ]
    },
    {
     "data": {
      "text/html": [
       "<div>\n",
       "<style scoped>\n",
       "    .dataframe tbody tr th:only-of-type {\n",
       "        vertical-align: middle;\n",
       "    }\n",
       "\n",
       "    .dataframe tbody tr th {\n",
       "        vertical-align: top;\n",
       "    }\n",
       "\n",
       "    .dataframe thead th {\n",
       "        text-align: right;\n",
       "    }\n",
       "</style>\n",
       "<table border=\"1\" class=\"dataframe\">\n",
       "  <thead>\n",
       "    <tr style=\"text-align: right;\">\n",
       "      <th></th>\n",
       "      <th>id</th>\n",
       "      <th>season</th>\n",
       "      <th>week</th>\n",
       "      <th>season_type</th>\n",
       "      <th>start_date</th>\n",
       "      <th>start_time_tbd</th>\n",
       "      <th>completed</th>\n",
       "      <th>neutral_site</th>\n",
       "      <th>conference_game</th>\n",
       "      <th>attendance</th>\n",
       "      <th>...</th>\n",
       "      <th>away_conference</th>\n",
       "      <th>away_division</th>\n",
       "      <th>away_points</th>\n",
       "      <th>away_line_scores</th>\n",
       "      <th>away_post_win_prob</th>\n",
       "      <th>away_pregame_elo</th>\n",
       "      <th>away_postgame_elo</th>\n",
       "      <th>excitement_index</th>\n",
       "      <th>highlights</th>\n",
       "      <th>notes</th>\n",
       "    </tr>\n",
       "  </thead>\n",
       "  <tbody>\n",
       "    <tr>\n",
       "      <th>0</th>\n",
       "      <td>332412309</td>\n",
       "      <td>2013</td>\n",
       "      <td>1</td>\n",
       "      <td>regular</td>\n",
       "      <td>2013-08-29T22:00:00.000Z</td>\n",
       "      <td>False</td>\n",
       "      <td>True</td>\n",
       "      <td>False</td>\n",
       "      <td>False</td>\n",
       "      <td>20790.0</td>\n",
       "      <td>...</td>\n",
       "      <td>Big South</td>\n",
       "      <td>fcs</td>\n",
       "      <td>10.0</td>\n",
       "      <td>[0, 3, 7, 0]</td>\n",
       "      <td>0.603843</td>\n",
       "      <td>1467.0</td>\n",
       "      <td>1461.0</td>\n",
       "      <td>NaN</td>\n",
       "      <td>NaN</td>\n",
       "      <td>NaN</td>\n",
       "    </tr>\n",
       "    <tr>\n",
       "      <th>1</th>\n",
       "      <td>332412579</td>\n",
       "      <td>2013</td>\n",
       "      <td>1</td>\n",
       "      <td>regular</td>\n",
       "      <td>2013-08-29T22:00:00.000Z</td>\n",
       "      <td>NaN</td>\n",
       "      <td>True</td>\n",
       "      <td>False</td>\n",
       "      <td>False</td>\n",
       "      <td>81572.0</td>\n",
       "      <td>...</td>\n",
       "      <td>ACC</td>\n",
       "      <td>fbs</td>\n",
       "      <td>10.0</td>\n",
       "      <td>[0, 7, 3, 0]</td>\n",
       "      <td>0.344414</td>\n",
       "      <td>1638.0</td>\n",
       "      <td>1612.0</td>\n",
       "      <td>NaN</td>\n",
       "      <td>NaN</td>\n",
       "      <td>NaN</td>\n",
       "    </tr>\n",
       "    <tr>\n",
       "      <th>2</th>\n",
       "      <td>332410154</td>\n",
       "      <td>2013</td>\n",
       "      <td>1</td>\n",
       "      <td>regular</td>\n",
       "      <td>2013-08-29T22:30:00.000Z</td>\n",
       "      <td>False</td>\n",
       "      <td>True</td>\n",
       "      <td>False</td>\n",
       "      <td>False</td>\n",
       "      <td>26202.0</td>\n",
       "      <td>...</td>\n",
       "      <td>Big South</td>\n",
       "      <td>fcs</td>\n",
       "      <td>7.0</td>\n",
       "      <td>[7, 0, 0, 0]</td>\n",
       "      <td>0.000211</td>\n",
       "      <td>NaN</td>\n",
       "      <td>NaN</td>\n",
       "      <td>NaN</td>\n",
       "      <td>NaN</td>\n",
       "      <td>NaN</td>\n",
       "    </tr>\n",
       "    <tr>\n",
       "      <th>3</th>\n",
       "      <td>332412710</td>\n",
       "      <td>2013</td>\n",
       "      <td>1</td>\n",
       "      <td>regular</td>\n",
       "      <td>2013-08-29T23:00:00.000Z</td>\n",
       "      <td>False</td>\n",
       "      <td>True</td>\n",
       "      <td>False</td>\n",
       "      <td>False</td>\n",
       "      <td>NaN</td>\n",
       "      <td>...</td>\n",
       "      <td>MEAC</td>\n",
       "      <td>fcs</td>\n",
       "      <td>9.0</td>\n",
       "      <td>[0, 6, 0, 3]</td>\n",
       "      <td>NaN</td>\n",
       "      <td>NaN</td>\n",
       "      <td>NaN</td>\n",
       "      <td>NaN</td>\n",
       "      <td>NaN</td>\n",
       "      <td>NaN</td>\n",
       "    </tr>\n",
       "    <tr>\n",
       "      <th>4</th>\n",
       "      <td>332412116</td>\n",
       "      <td>2013</td>\n",
       "      <td>1</td>\n",
       "      <td>regular</td>\n",
       "      <td>2013-08-29T23:00:00.000Z</td>\n",
       "      <td>NaN</td>\n",
       "      <td>True</td>\n",
       "      <td>False</td>\n",
       "      <td>False</td>\n",
       "      <td>35115.0</td>\n",
       "      <td>...</td>\n",
       "      <td>Mid-American</td>\n",
       "      <td>fbs</td>\n",
       "      <td>7.0</td>\n",
       "      <td>[0, 0, 0, 7]</td>\n",
       "      <td>0.004920</td>\n",
       "      <td>1144.0</td>\n",
       "      <td>1119.0</td>\n",
       "      <td>NaN</td>\n",
       "      <td>NaN</td>\n",
       "      <td>NaN</td>\n",
       "    </tr>\n",
       "    <tr>\n",
       "      <th>...</th>\n",
       "      <td>...</td>\n",
       "      <td>...</td>\n",
       "      <td>...</td>\n",
       "      <td>...</td>\n",
       "      <td>...</td>\n",
       "      <td>...</td>\n",
       "      <td>...</td>\n",
       "      <td>...</td>\n",
       "      <td>...</td>\n",
       "      <td>...</td>\n",
       "      <td>...</td>\n",
       "      <td>...</td>\n",
       "      <td>...</td>\n",
       "      <td>...</td>\n",
       "      <td>...</td>\n",
       "      <td>...</td>\n",
       "      <td>...</td>\n",
       "      <td>...</td>\n",
       "      <td>...</td>\n",
       "      <td>...</td>\n",
       "      <td>...</td>\n",
       "    </tr>\n",
       "    <tr>\n",
       "      <th>20836</th>\n",
       "      <td>401520444</td>\n",
       "      <td>2023</td>\n",
       "      <td>13</td>\n",
       "      <td>regular</td>\n",
       "      <td>2023-11-25T20:30:00.000Z</td>\n",
       "      <td>False</td>\n",
       "      <td>False</td>\n",
       "      <td>False</td>\n",
       "      <td>True</td>\n",
       "      <td>NaN</td>\n",
       "      <td>...</td>\n",
       "      <td>Conference USA</td>\n",
       "      <td>fbs</td>\n",
       "      <td>NaN</td>\n",
       "      <td>NaN</td>\n",
       "      <td>NaN</td>\n",
       "      <td>1572.0</td>\n",
       "      <td>NaN</td>\n",
       "      <td>NaN</td>\n",
       "      <td>NaN</td>\n",
       "      <td>NaN</td>\n",
       "    </tr>\n",
       "    <tr>\n",
       "      <th>20837</th>\n",
       "      <td>401520437</td>\n",
       "      <td>2023</td>\n",
       "      <td>13</td>\n",
       "      <td>regular</td>\n",
       "      <td>2023-11-25T21:00:00.000Z</td>\n",
       "      <td>False</td>\n",
       "      <td>False</td>\n",
       "      <td>False</td>\n",
       "      <td>True</td>\n",
       "      <td>NaN</td>\n",
       "      <td>...</td>\n",
       "      <td>Conference USA</td>\n",
       "      <td>fbs</td>\n",
       "      <td>NaN</td>\n",
       "      <td>NaN</td>\n",
       "      <td>NaN</td>\n",
       "      <td>1538.0</td>\n",
       "      <td>NaN</td>\n",
       "      <td>NaN</td>\n",
       "      <td>NaN</td>\n",
       "      <td>NaN</td>\n",
       "    </tr>\n",
       "    <tr>\n",
       "      <th>20838</th>\n",
       "      <td>401532630</td>\n",
       "      <td>2023</td>\n",
       "      <td>13</td>\n",
       "      <td>regular</td>\n",
       "      <td>2023-11-26T02:00:00.000Z</td>\n",
       "      <td>False</td>\n",
       "      <td>False</td>\n",
       "      <td>False</td>\n",
       "      <td>True</td>\n",
       "      <td>NaN</td>\n",
       "      <td>...</td>\n",
       "      <td>Mountain West</td>\n",
       "      <td>fbs</td>\n",
       "      <td>NaN</td>\n",
       "      <td>NaN</td>\n",
       "      <td>NaN</td>\n",
       "      <td>1418.0</td>\n",
       "      <td>NaN</td>\n",
       "      <td>NaN</td>\n",
       "      <td>NaN</td>\n",
       "      <td>NaN</td>\n",
       "    </tr>\n",
       "    <tr>\n",
       "      <th>20839</th>\n",
       "      <td>401532626</td>\n",
       "      <td>2023</td>\n",
       "      <td>13</td>\n",
       "      <td>regular</td>\n",
       "      <td>2023-11-26T04:00:00.000Z</td>\n",
       "      <td>False</td>\n",
       "      <td>False</td>\n",
       "      <td>False</td>\n",
       "      <td>True</td>\n",
       "      <td>NaN</td>\n",
       "      <td>...</td>\n",
       "      <td>Mountain West</td>\n",
       "      <td>fbs</td>\n",
       "      <td>NaN</td>\n",
       "      <td>NaN</td>\n",
       "      <td>NaN</td>\n",
       "      <td>1260.0</td>\n",
       "      <td>NaN</td>\n",
       "      <td>NaN</td>\n",
       "      <td>NaN</td>\n",
       "      <td>NaN</td>\n",
       "    </tr>\n",
       "    <tr>\n",
       "      <th>20840</th>\n",
       "      <td>401520445</td>\n",
       "      <td>2023</td>\n",
       "      <td>15</td>\n",
       "      <td>regular</td>\n",
       "      <td>2023-12-09T20:00:00.000Z</td>\n",
       "      <td>False</td>\n",
       "      <td>False</td>\n",
       "      <td>True</td>\n",
       "      <td>False</td>\n",
       "      <td>NaN</td>\n",
       "      <td>...</td>\n",
       "      <td>American Athletic</td>\n",
       "      <td>fbs</td>\n",
       "      <td>NaN</td>\n",
       "      <td>NaN</td>\n",
       "      <td>NaN</td>\n",
       "      <td>1349.0</td>\n",
       "      <td>NaN</td>\n",
       "      <td>NaN</td>\n",
       "      <td>NaN</td>\n",
       "      <td>NaN</td>\n",
       "    </tr>\n",
       "  </tbody>\n",
       "</table>\n",
       "<p>20841 rows × 33 columns</p>\n",
       "</div>"
      ],
      "text/plain": [
       "              id  season  week season_type                start_date  \\\n",
       "0      332412309    2013     1     regular  2013-08-29T22:00:00.000Z   \n",
       "1      332412579    2013     1     regular  2013-08-29T22:00:00.000Z   \n",
       "2      332410154    2013     1     regular  2013-08-29T22:30:00.000Z   \n",
       "3      332412710    2013     1     regular  2013-08-29T23:00:00.000Z   \n",
       "4      332412116    2013     1     regular  2013-08-29T23:00:00.000Z   \n",
       "...          ...     ...   ...         ...                       ...   \n",
       "20836  401520444    2023    13     regular  2023-11-25T20:30:00.000Z   \n",
       "20837  401520437    2023    13     regular  2023-11-25T21:00:00.000Z   \n",
       "20838  401532630    2023    13     regular  2023-11-26T02:00:00.000Z   \n",
       "20839  401532626    2023    13     regular  2023-11-26T04:00:00.000Z   \n",
       "20840  401520445    2023    15     regular  2023-12-09T20:00:00.000Z   \n",
       "\n",
       "      start_time_tbd  completed  neutral_site  conference_game  attendance  \\\n",
       "0              False       True         False            False     20790.0   \n",
       "1                NaN       True         False            False     81572.0   \n",
       "2              False       True         False            False     26202.0   \n",
       "3              False       True         False            False         NaN   \n",
       "4                NaN       True         False            False     35115.0   \n",
       "...              ...        ...           ...              ...         ...   \n",
       "20836          False      False         False             True         NaN   \n",
       "20837          False      False         False             True         NaN   \n",
       "20838          False      False         False             True         NaN   \n",
       "20839          False      False         False             True         NaN   \n",
       "20840          False      False          True            False         NaN   \n",
       "\n",
       "       ...    away_conference away_division  away_points away_line_scores  \\\n",
       "0      ...          Big South           fcs         10.0     [0, 3, 7, 0]   \n",
       "1      ...                ACC           fbs         10.0     [0, 7, 3, 0]   \n",
       "2      ...          Big South           fcs          7.0     [7, 0, 0, 0]   \n",
       "3      ...               MEAC           fcs          9.0     [0, 6, 0, 3]   \n",
       "4      ...       Mid-American           fbs          7.0     [0, 0, 0, 7]   \n",
       "...    ...                ...           ...          ...              ...   \n",
       "20836  ...     Conference USA           fbs          NaN              NaN   \n",
       "20837  ...     Conference USA           fbs          NaN              NaN   \n",
       "20838  ...      Mountain West           fbs          NaN              NaN   \n",
       "20839  ...      Mountain West           fbs          NaN              NaN   \n",
       "20840  ...  American Athletic           fbs          NaN              NaN   \n",
       "\n",
       "      away_post_win_prob away_pregame_elo  away_postgame_elo excitement_index  \\\n",
       "0               0.603843           1467.0             1461.0              NaN   \n",
       "1               0.344414           1638.0             1612.0              NaN   \n",
       "2               0.000211              NaN                NaN              NaN   \n",
       "3                    NaN              NaN                NaN              NaN   \n",
       "4               0.004920           1144.0             1119.0              NaN   \n",
       "...                  ...              ...                ...              ...   \n",
       "20836                NaN           1572.0                NaN              NaN   \n",
       "20837                NaN           1538.0                NaN              NaN   \n",
       "20838                NaN           1418.0                NaN              NaN   \n",
       "20839                NaN           1260.0                NaN              NaN   \n",
       "20840                NaN           1349.0                NaN              NaN   \n",
       "\n",
       "       highlights  notes  \n",
       "0             NaN    NaN  \n",
       "1             NaN    NaN  \n",
       "2             NaN    NaN  \n",
       "3             NaN    NaN  \n",
       "4             NaN    NaN  \n",
       "...           ...    ...  \n",
       "20836         NaN    NaN  \n",
       "20837         NaN    NaN  \n",
       "20838         NaN    NaN  \n",
       "20839         NaN    NaN  \n",
       "20840         NaN    NaN  \n",
       "\n",
       "[20841 rows x 33 columns]"
      ]
     },
     "execution_count": 3,
     "metadata": {},
     "output_type": "execute_result"
    }
   ],
   "source": [
    "csv_file_path = 'football_data.csv'\n",
    "data = pd.read_csv(csv_file_path)\n",
    "data"
   ]
  },
  {
   "cell_type": "code",
   "execution_count": 109,
   "metadata": {},
   "outputs": [],
   "source": [
    "username = 'root'\n",
    "password = 'root'\n",
    "host = '127.0.0.1'\n",
    "#port = '3306'\n",
    "database_name = 'games'\n",
    "\n",
    "# Create a connection to the database\n",
    "connection = mysql.connector.connect(user=username, password=password, host=host, port=port, database=database_name)\n",
    "cursor = connection.cursor()"
   ]
  },
  {
   "cell_type": "code",
   "execution_count": 110,
   "metadata": {},
   "outputs": [],
   "source": [
    "# Execute SQL queries using cursor.execute()\n",
    "cursor.execute(\"SELECT * FROM football_data\")\n",
    "\n",
    "# Fetch and print the result\n",
    "result = cursor.fetchall()\n",
    "df2 = pd.DataFrame(result,columns=['id', 'season', 'week', 'season_type', 'start_date', 'start_time_tbd',\n",
    "       'completed', 'neutral_site', 'conference_game', 'attendance',\n",
    "       'venue_id', 'venue', 'home_id', 'home_team', 'home_conference',\n",
    "       'home_division', 'home_points', 'home_line_scores',\n",
    "       'home_post_win_prob', 'home_pregame_elo', 'home_postgame_elo',\n",
    "       'away_id', 'away_team', 'away_conference', 'away_division',\n",
    "       'away_points', 'away_line_scores', 'away_post_win_prob',\n",
    "       'away_pregame_elo', 'away_postgame_elo', 'excitement_index',\n",
    "       'highlights', 'notes']) \n",
    "\n",
    "\n"
   ]
  },
  {
   "cell_type": "code",
   "execution_count": 112,
   "metadata": {},
   "outputs": [
    {
     "data": {
      "text/html": [
       "<div>\n",
       "<style scoped>\n",
       "    .dataframe tbody tr th:only-of-type {\n",
       "        vertical-align: middle;\n",
       "    }\n",
       "\n",
       "    .dataframe tbody tr th {\n",
       "        vertical-align: top;\n",
       "    }\n",
       "\n",
       "    .dataframe thead th {\n",
       "        text-align: right;\n",
       "    }\n",
       "</style>\n",
       "<table border=\"1\" class=\"dataframe\">\n",
       "  <thead>\n",
       "    <tr style=\"text-align: right;\">\n",
       "      <th></th>\n",
       "      <th>id</th>\n",
       "      <th>season</th>\n",
       "      <th>week</th>\n",
       "      <th>season_type</th>\n",
       "      <th>start_date</th>\n",
       "      <th>start_time_tbd</th>\n",
       "      <th>completed</th>\n",
       "      <th>neutral_site</th>\n",
       "      <th>conference_game</th>\n",
       "      <th>attendance</th>\n",
       "      <th>...</th>\n",
       "      <th>away_conference</th>\n",
       "      <th>away_division</th>\n",
       "      <th>away_points</th>\n",
       "      <th>away_line_scores</th>\n",
       "      <th>away_post_win_prob</th>\n",
       "      <th>away_pregame_elo</th>\n",
       "      <th>away_postgame_elo</th>\n",
       "      <th>excitement_index</th>\n",
       "      <th>highlights</th>\n",
       "      <th>notes</th>\n",
       "    </tr>\n",
       "  </thead>\n",
       "  <tbody>\n",
       "    <tr>\n",
       "      <th>0</th>\n",
       "      <td>332412309</td>\n",
       "      <td>2013</td>\n",
       "      <td>1</td>\n",
       "      <td>regular</td>\n",
       "      <td>2013-08-29T22:00:00.000Z</td>\n",
       "      <td>False</td>\n",
       "      <td>True</td>\n",
       "      <td>False</td>\n",
       "      <td>False</td>\n",
       "      <td>20790.0</td>\n",
       "      <td>...</td>\n",
       "      <td>Big South</td>\n",
       "      <td>fcs</td>\n",
       "      <td>10.0</td>\n",
       "      <td>[0, 3, 7, 0]</td>\n",
       "      <td>0.6038425390589921</td>\n",
       "      <td>1467.0</td>\n",
       "      <td>1461.0</td>\n",
       "      <td></td>\n",
       "      <td></td>\n",
       "      <td></td>\n",
       "    </tr>\n",
       "    <tr>\n",
       "      <th>1</th>\n",
       "      <td>332412579</td>\n",
       "      <td>2013</td>\n",
       "      <td>1</td>\n",
       "      <td>regular</td>\n",
       "      <td>2013-08-29T22:00:00.000Z</td>\n",
       "      <td></td>\n",
       "      <td>True</td>\n",
       "      <td>False</td>\n",
       "      <td>False</td>\n",
       "      <td>81572.0</td>\n",
       "      <td>...</td>\n",
       "      <td>ACC</td>\n",
       "      <td>fbs</td>\n",
       "      <td>10.0</td>\n",
       "      <td>[0, 7, 3, 0]</td>\n",
       "      <td>0.3444138448668871</td>\n",
       "      <td>1638.0</td>\n",
       "      <td>1612.0</td>\n",
       "      <td></td>\n",
       "      <td></td>\n",
       "      <td></td>\n",
       "    </tr>\n",
       "    <tr>\n",
       "      <th>2</th>\n",
       "      <td>332410154</td>\n",
       "      <td>2013</td>\n",
       "      <td>1</td>\n",
       "      <td>regular</td>\n",
       "      <td>2013-08-29T22:30:00.000Z</td>\n",
       "      <td>False</td>\n",
       "      <td>True</td>\n",
       "      <td>False</td>\n",
       "      <td>False</td>\n",
       "      <td>26202.0</td>\n",
       "      <td>...</td>\n",
       "      <td>Big South</td>\n",
       "      <td>fcs</td>\n",
       "      <td>7.0</td>\n",
       "      <td>[7, 0, 0, 0]</td>\n",
       "      <td>0.00021090286491187715</td>\n",
       "      <td></td>\n",
       "      <td></td>\n",
       "      <td></td>\n",
       "      <td></td>\n",
       "      <td></td>\n",
       "    </tr>\n",
       "    <tr>\n",
       "      <th>3</th>\n",
       "      <td>332412710</td>\n",
       "      <td>2013</td>\n",
       "      <td>1</td>\n",
       "      <td>regular</td>\n",
       "      <td>2013-08-29T23:00:00.000Z</td>\n",
       "      <td>False</td>\n",
       "      <td>True</td>\n",
       "      <td>False</td>\n",
       "      <td>False</td>\n",
       "      <td></td>\n",
       "      <td>...</td>\n",
       "      <td>MEAC</td>\n",
       "      <td>fcs</td>\n",
       "      <td>9.0</td>\n",
       "      <td>[0, 6, 0, 3]</td>\n",
       "      <td></td>\n",
       "      <td></td>\n",
       "      <td></td>\n",
       "      <td></td>\n",
       "      <td></td>\n",
       "      <td></td>\n",
       "    </tr>\n",
       "    <tr>\n",
       "      <th>4</th>\n",
       "      <td>332412116</td>\n",
       "      <td>2013</td>\n",
       "      <td>1</td>\n",
       "      <td>regular</td>\n",
       "      <td>2013-08-29T23:00:00.000Z</td>\n",
       "      <td></td>\n",
       "      <td>True</td>\n",
       "      <td>False</td>\n",
       "      <td>False</td>\n",
       "      <td>35115.0</td>\n",
       "      <td>...</td>\n",
       "      <td>Mid-American</td>\n",
       "      <td>fbs</td>\n",
       "      <td>7.0</td>\n",
       "      <td>[0, 0, 0, 7]</td>\n",
       "      <td>0.004920378920123536</td>\n",
       "      <td>1144.0</td>\n",
       "      <td>1119.0</td>\n",
       "      <td></td>\n",
       "      <td></td>\n",
       "      <td></td>\n",
       "    </tr>\n",
       "  </tbody>\n",
       "</table>\n",
       "<p>5 rows × 33 columns</p>\n",
       "</div>"
      ],
      "text/plain": [
       "          id  season  week season_type                start_date  \\\n",
       "0  332412309    2013     1     regular  2013-08-29T22:00:00.000Z   \n",
       "1  332412579    2013     1     regular  2013-08-29T22:00:00.000Z   \n",
       "2  332410154    2013     1     regular  2013-08-29T22:30:00.000Z   \n",
       "3  332412710    2013     1     regular  2013-08-29T23:00:00.000Z   \n",
       "4  332412116    2013     1     regular  2013-08-29T23:00:00.000Z   \n",
       "\n",
       "  start_time_tbd completed neutral_site conference_game attendance  ...  \\\n",
       "0          False      True        False           False    20790.0  ...   \n",
       "1                     True        False           False    81572.0  ...   \n",
       "2          False      True        False           False    26202.0  ...   \n",
       "3          False      True        False           False             ...   \n",
       "4                     True        False           False    35115.0  ...   \n",
       "\n",
       "   away_conference away_division  away_points away_line_scores  \\\n",
       "0        Big South           fcs         10.0     [0, 3, 7, 0]   \n",
       "1              ACC           fbs         10.0     [0, 7, 3, 0]   \n",
       "2        Big South           fcs          7.0     [7, 0, 0, 0]   \n",
       "3             MEAC           fcs          9.0     [0, 6, 0, 3]   \n",
       "4     Mid-American           fbs          7.0     [0, 0, 0, 7]   \n",
       "\n",
       "       away_post_win_prob away_pregame_elo  away_postgame_elo  \\\n",
       "0      0.6038425390589921           1467.0             1461.0   \n",
       "1      0.3444138448668871           1638.0             1612.0   \n",
       "2  0.00021090286491187715                                       \n",
       "3                                                               \n",
       "4    0.004920378920123536           1144.0             1119.0   \n",
       "\n",
       "  excitement_index highlights notes  \n",
       "0                                    \n",
       "1                                    \n",
       "2                                    \n",
       "3                                    \n",
       "4                                    \n",
       "\n",
       "[5 rows x 33 columns]"
      ]
     },
     "execution_count": 112,
     "metadata": {},
     "output_type": "execute_result"
    }
   ],
   "source": [
    "df2.head()"
   ]
  },
  {
   "cell_type": "code",
   "execution_count": 114,
   "metadata": {},
   "outputs": [
    {
     "data": {
      "text/plain": [
       "id                    0\n",
       "season                0\n",
       "week                  0\n",
       "season_type           0\n",
       "start_date            0\n",
       "start_time_tbd        0\n",
       "completed             0\n",
       "neutral_site          0\n",
       "conference_game       0\n",
       "attendance            0\n",
       "venue_id              0\n",
       "venue                 0\n",
       "home_id               0\n",
       "home_team             0\n",
       "home_conference       0\n",
       "home_division         0\n",
       "home_points           0\n",
       "home_line_scores      0\n",
       "home_post_win_prob    0\n",
       "home_pregame_elo      0\n",
       "home_postgame_elo     0\n",
       "away_id               0\n",
       "away_team             0\n",
       "away_conference       0\n",
       "away_division         0\n",
       "away_points           0\n",
       "away_line_scores      0\n",
       "away_post_win_prob    0\n",
       "away_pregame_elo      0\n",
       "away_postgame_elo     0\n",
       "excitement_index      0\n",
       "highlights            0\n",
       "notes                 0\n",
       "dtype: int64"
      ]
     },
     "execution_count": 114,
     "metadata": {},
     "output_type": "execute_result"
    }
   ],
   "source": [
    "df2.isnull().sum()"
   ]
  },
  {
   "cell_type": "markdown",
   "metadata": {},
   "source": [
    "# Here I analyze that we have no null values in our data but that is incorrect,our data has lot more null values as we seen above.\n",
    "We need to clean data first than import to database or after saving our csv data to database we can make analysis further on csv\n",
    "Data\n",
    "Which I done here"
   ]
  },
  {
   "cell_type": "code",
   "execution_count": 115,
   "metadata": {},
   "outputs": [],
   "source": [
    "#Close the connection\n",
    "connection.commit()\n",
    "cursor.close()\n",
    "connection.close()"
   ]
  },
  {
   "cell_type": "markdown",
   "metadata": {},
   "source": [
    "# 3. Data Preprocessing"
   ]
  },
  {
   "cell_type": "code",
   "execution_count": 4,
   "metadata": {},
   "outputs": [
    {
     "data": {
      "text/html": [
       "<div>\n",
       "<style scoped>\n",
       "    .dataframe tbody tr th:only-of-type {\n",
       "        vertical-align: middle;\n",
       "    }\n",
       "\n",
       "    .dataframe tbody tr th {\n",
       "        vertical-align: top;\n",
       "    }\n",
       "\n",
       "    .dataframe thead th {\n",
       "        text-align: right;\n",
       "    }\n",
       "</style>\n",
       "<table border=\"1\" class=\"dataframe\">\n",
       "  <thead>\n",
       "    <tr style=\"text-align: right;\">\n",
       "      <th></th>\n",
       "      <th>id</th>\n",
       "      <th>season</th>\n",
       "      <th>week</th>\n",
       "      <th>season_type</th>\n",
       "      <th>start_date</th>\n",
       "      <th>start_time_tbd</th>\n",
       "      <th>completed</th>\n",
       "      <th>neutral_site</th>\n",
       "      <th>conference_game</th>\n",
       "      <th>attendance</th>\n",
       "      <th>...</th>\n",
       "      <th>away_conference</th>\n",
       "      <th>away_division</th>\n",
       "      <th>away_points</th>\n",
       "      <th>away_line_scores</th>\n",
       "      <th>away_post_win_prob</th>\n",
       "      <th>away_pregame_elo</th>\n",
       "      <th>away_postgame_elo</th>\n",
       "      <th>excitement_index</th>\n",
       "      <th>highlights</th>\n",
       "      <th>notes</th>\n",
       "    </tr>\n",
       "  </thead>\n",
       "  <tbody>\n",
       "    <tr>\n",
       "      <th>0</th>\n",
       "      <td>332412309</td>\n",
       "      <td>2013</td>\n",
       "      <td>1</td>\n",
       "      <td>regular</td>\n",
       "      <td>2013-08-29T22:00:00.000Z</td>\n",
       "      <td>False</td>\n",
       "      <td>True</td>\n",
       "      <td>False</td>\n",
       "      <td>False</td>\n",
       "      <td>20790.0</td>\n",
       "      <td>...</td>\n",
       "      <td>Big South</td>\n",
       "      <td>fcs</td>\n",
       "      <td>10.0</td>\n",
       "      <td>[0, 3, 7, 0]</td>\n",
       "      <td>0.603843</td>\n",
       "      <td>1467.0</td>\n",
       "      <td>1461.0</td>\n",
       "      <td>NaN</td>\n",
       "      <td>NaN</td>\n",
       "      <td>NaN</td>\n",
       "    </tr>\n",
       "    <tr>\n",
       "      <th>1</th>\n",
       "      <td>332412579</td>\n",
       "      <td>2013</td>\n",
       "      <td>1</td>\n",
       "      <td>regular</td>\n",
       "      <td>2013-08-29T22:00:00.000Z</td>\n",
       "      <td>NaN</td>\n",
       "      <td>True</td>\n",
       "      <td>False</td>\n",
       "      <td>False</td>\n",
       "      <td>81572.0</td>\n",
       "      <td>...</td>\n",
       "      <td>ACC</td>\n",
       "      <td>fbs</td>\n",
       "      <td>10.0</td>\n",
       "      <td>[0, 7, 3, 0]</td>\n",
       "      <td>0.344414</td>\n",
       "      <td>1638.0</td>\n",
       "      <td>1612.0</td>\n",
       "      <td>NaN</td>\n",
       "      <td>NaN</td>\n",
       "      <td>NaN</td>\n",
       "    </tr>\n",
       "    <tr>\n",
       "      <th>2</th>\n",
       "      <td>332410154</td>\n",
       "      <td>2013</td>\n",
       "      <td>1</td>\n",
       "      <td>regular</td>\n",
       "      <td>2013-08-29T22:30:00.000Z</td>\n",
       "      <td>False</td>\n",
       "      <td>True</td>\n",
       "      <td>False</td>\n",
       "      <td>False</td>\n",
       "      <td>26202.0</td>\n",
       "      <td>...</td>\n",
       "      <td>Big South</td>\n",
       "      <td>fcs</td>\n",
       "      <td>7.0</td>\n",
       "      <td>[7, 0, 0, 0]</td>\n",
       "      <td>0.000211</td>\n",
       "      <td>NaN</td>\n",
       "      <td>NaN</td>\n",
       "      <td>NaN</td>\n",
       "      <td>NaN</td>\n",
       "      <td>NaN</td>\n",
       "    </tr>\n",
       "    <tr>\n",
       "      <th>3</th>\n",
       "      <td>332412710</td>\n",
       "      <td>2013</td>\n",
       "      <td>1</td>\n",
       "      <td>regular</td>\n",
       "      <td>2013-08-29T23:00:00.000Z</td>\n",
       "      <td>False</td>\n",
       "      <td>True</td>\n",
       "      <td>False</td>\n",
       "      <td>False</td>\n",
       "      <td>NaN</td>\n",
       "      <td>...</td>\n",
       "      <td>MEAC</td>\n",
       "      <td>fcs</td>\n",
       "      <td>9.0</td>\n",
       "      <td>[0, 6, 0, 3]</td>\n",
       "      <td>NaN</td>\n",
       "      <td>NaN</td>\n",
       "      <td>NaN</td>\n",
       "      <td>NaN</td>\n",
       "      <td>NaN</td>\n",
       "      <td>NaN</td>\n",
       "    </tr>\n",
       "    <tr>\n",
       "      <th>4</th>\n",
       "      <td>332412116</td>\n",
       "      <td>2013</td>\n",
       "      <td>1</td>\n",
       "      <td>regular</td>\n",
       "      <td>2013-08-29T23:00:00.000Z</td>\n",
       "      <td>NaN</td>\n",
       "      <td>True</td>\n",
       "      <td>False</td>\n",
       "      <td>False</td>\n",
       "      <td>35115.0</td>\n",
       "      <td>...</td>\n",
       "      <td>Mid-American</td>\n",
       "      <td>fbs</td>\n",
       "      <td>7.0</td>\n",
       "      <td>[0, 0, 0, 7]</td>\n",
       "      <td>0.004920</td>\n",
       "      <td>1144.0</td>\n",
       "      <td>1119.0</td>\n",
       "      <td>NaN</td>\n",
       "      <td>NaN</td>\n",
       "      <td>NaN</td>\n",
       "    </tr>\n",
       "  </tbody>\n",
       "</table>\n",
       "<p>5 rows × 33 columns</p>\n",
       "</div>"
      ],
      "text/plain": [
       "          id  season  week season_type                start_date  \\\n",
       "0  332412309    2013     1     regular  2013-08-29T22:00:00.000Z   \n",
       "1  332412579    2013     1     regular  2013-08-29T22:00:00.000Z   \n",
       "2  332410154    2013     1     regular  2013-08-29T22:30:00.000Z   \n",
       "3  332412710    2013     1     regular  2013-08-29T23:00:00.000Z   \n",
       "4  332412116    2013     1     regular  2013-08-29T23:00:00.000Z   \n",
       "\n",
       "  start_time_tbd  completed  neutral_site  conference_game  attendance  ...  \\\n",
       "0          False       True         False            False     20790.0  ...   \n",
       "1            NaN       True         False            False     81572.0  ...   \n",
       "2          False       True         False            False     26202.0  ...   \n",
       "3          False       True         False            False         NaN  ...   \n",
       "4            NaN       True         False            False     35115.0  ...   \n",
       "\n",
       "   away_conference away_division  away_points away_line_scores  \\\n",
       "0        Big South           fcs         10.0     [0, 3, 7, 0]   \n",
       "1              ACC           fbs         10.0     [0, 7, 3, 0]   \n",
       "2        Big South           fcs          7.0     [7, 0, 0, 0]   \n",
       "3             MEAC           fcs          9.0     [0, 6, 0, 3]   \n",
       "4     Mid-American           fbs          7.0     [0, 0, 0, 7]   \n",
       "\n",
       "  away_post_win_prob away_pregame_elo  away_postgame_elo excitement_index  \\\n",
       "0           0.603843           1467.0             1461.0              NaN   \n",
       "1           0.344414           1638.0             1612.0              NaN   \n",
       "2           0.000211              NaN                NaN              NaN   \n",
       "3                NaN              NaN                NaN              NaN   \n",
       "4           0.004920           1144.0             1119.0              NaN   \n",
       "\n",
       "   highlights  notes  \n",
       "0         NaN    NaN  \n",
       "1         NaN    NaN  \n",
       "2         NaN    NaN  \n",
       "3         NaN    NaN  \n",
       "4         NaN    NaN  \n",
       "\n",
       "[5 rows x 33 columns]"
      ]
     },
     "execution_count": 4,
     "metadata": {},
     "output_type": "execute_result"
    }
   ],
   "source": [
    "#for analysis I use the csv file and pandas\n",
    "data.head()"
   ]
  },
  {
   "cell_type": "code",
   "execution_count": 5,
   "metadata": {},
   "outputs": [
    {
     "data": {
      "text/plain": [
       "id                        0\n",
       "season                    0\n",
       "week                      0\n",
       "season_type               0\n",
       "start_date                0\n",
       "start_time_tbd         5105\n",
       "completed                 0\n",
       "neutral_site              0\n",
       "conference_game           0\n",
       "attendance            12563\n",
       "venue_id                123\n",
       "venue                   123\n",
       "home_id                   0\n",
       "home_team                 0\n",
       "home_conference          54\n",
       "home_division            54\n",
       "home_points            1797\n",
       "home_line_scores       1797\n",
       "home_post_win_prob    11578\n",
       "home_pregame_elo      12785\n",
       "home_postgame_elo     13217\n",
       "away_id                   0\n",
       "away_team                 0\n",
       "away_conference         335\n",
       "away_division           335\n",
       "away_points            1797\n",
       "away_line_scores       1797\n",
       "away_post_win_prob    11578\n",
       "away_pregame_elo      13021\n",
       "away_postgame_elo     13453\n",
       "excitement_index      12416\n",
       "highlights            17628\n",
       "notes                 20598\n",
       "dtype: int64"
      ]
     },
     "execution_count": 5,
     "metadata": {},
     "output_type": "execute_result"
    }
   ],
   "source": [
    "data.isnull().sum()"
   ]
  },
  {
   "cell_type": "markdown",
   "metadata": {},
   "source": [
    "# Imputation and Cleaning in Important Features"
   ]
  },
  {
   "cell_type": "code",
   "execution_count": 6,
   "metadata": {},
   "outputs": [],
   "source": [
    "#First impute some data in home_points and away_points"
   ]
  },
  {
   "cell_type": "code",
   "execution_count": 7,
   "metadata": {},
   "outputs": [],
   "source": [
    "#home_points"
   ]
  },
  {
   "cell_type": "code",
   "execution_count": 8,
   "metadata": {},
   "outputs": [
    {
     "data": {
      "text/plain": [
       "0    17.0\n",
       "1    27.0\n",
       "2    31.0\n",
       "3    42.0\n",
       "4    38.0\n",
       "5    38.0\n",
       "6    51.0\n",
       "7    73.0\n",
       "8    51.0\n",
       "9    17.0\n",
       "Name: home_points, dtype: float64"
      ]
     },
     "execution_count": 8,
     "metadata": {},
     "output_type": "execute_result"
    }
   ],
   "source": [
    "data['home_points'].head(10)"
   ]
  },
  {
   "cell_type": "code",
   "execution_count": 9,
   "metadata": {},
   "outputs": [
    {
     "data": {
      "text/plain": [
       "30.402699012812434"
      ]
     },
     "execution_count": 9,
     "metadata": {},
     "output_type": "execute_result"
    }
   ],
   "source": [
    "column_to_impute = 'home_points'\n",
    "imp1=data[column_to_impute].mean()\n",
    "imp1"
   ]
  },
  {
   "cell_type": "code",
   "execution_count": 10,
   "metadata": {},
   "outputs": [],
   "source": [
    "data[column_to_impute].fillna(imp1, inplace=True)"
   ]
  },
  {
   "cell_type": "code",
   "execution_count": 11,
   "metadata": {},
   "outputs": [
    {
     "data": {
      "text/plain": [
       "id                        0\n",
       "season                    0\n",
       "week                      0\n",
       "season_type               0\n",
       "start_date                0\n",
       "start_time_tbd         5105\n",
       "completed                 0\n",
       "neutral_site              0\n",
       "conference_game           0\n",
       "attendance            12563\n",
       "venue_id                123\n",
       "venue                   123\n",
       "home_id                   0\n",
       "home_team                 0\n",
       "home_conference          54\n",
       "home_division            54\n",
       "home_points               0\n",
       "home_line_scores       1797\n",
       "home_post_win_prob    11578\n",
       "home_pregame_elo      12785\n",
       "home_postgame_elo     13217\n",
       "away_id                   0\n",
       "away_team                 0\n",
       "away_conference         335\n",
       "away_division           335\n",
       "away_points            1797\n",
       "away_line_scores       1797\n",
       "away_post_win_prob    11578\n",
       "away_pregame_elo      13021\n",
       "away_postgame_elo     13453\n",
       "excitement_index      12416\n",
       "highlights            17628\n",
       "notes                 20598\n",
       "dtype: int64"
      ]
     },
     "execution_count": 11,
     "metadata": {},
     "output_type": "execute_result"
    }
   ],
   "source": [
    "data.isnull().sum()"
   ]
  },
  {
   "cell_type": "code",
   "execution_count": 12,
   "metadata": {},
   "outputs": [
    {
     "data": {
      "text/plain": [
       "0    10.0\n",
       "1    10.0\n",
       "2     7.0\n",
       "3     9.0\n",
       "4     7.0\n",
       "Name: away_points, dtype: float64"
      ]
     },
     "execution_count": 12,
     "metadata": {},
     "output_type": "execute_result"
    }
   ],
   "source": [
    "#away_points\n",
    "data['away_points'].head()"
   ]
  },
  {
   "cell_type": "code",
   "execution_count": 13,
   "metadata": {},
   "outputs": [
    {
     "data": {
      "text/plain": [
       "23.0"
      ]
     },
     "execution_count": 13,
     "metadata": {},
     "output_type": "execute_result"
    }
   ],
   "source": [
    "column_to_impute1 = 'away_points'\n",
    "imp2=data[column_to_impute1].median()\n",
    "imp2"
   ]
  },
  {
   "cell_type": "code",
   "execution_count": 14,
   "metadata": {},
   "outputs": [],
   "source": [
    "data[column_to_impute1].fillna(imp2, inplace=True)"
   ]
  },
  {
   "cell_type": "code",
   "execution_count": 15,
   "metadata": {},
   "outputs": [
    {
     "data": {
      "text/plain": [
       "id                        0\n",
       "season                    0\n",
       "week                      0\n",
       "season_type               0\n",
       "start_date                0\n",
       "start_time_tbd         5105\n",
       "completed                 0\n",
       "neutral_site              0\n",
       "conference_game           0\n",
       "attendance            12563\n",
       "venue_id                123\n",
       "venue                   123\n",
       "home_id                   0\n",
       "home_team                 0\n",
       "home_conference          54\n",
       "home_division            54\n",
       "home_points               0\n",
       "home_line_scores       1797\n",
       "home_post_win_prob    11578\n",
       "home_pregame_elo      12785\n",
       "home_postgame_elo     13217\n",
       "away_id                   0\n",
       "away_team                 0\n",
       "away_conference         335\n",
       "away_division           335\n",
       "away_points               0\n",
       "away_line_scores       1797\n",
       "away_post_win_prob    11578\n",
       "away_pregame_elo      13021\n",
       "away_postgame_elo     13453\n",
       "excitement_index      12416\n",
       "highlights            17628\n",
       "notes                 20598\n",
       "dtype: int64"
      ]
     },
     "execution_count": 15,
     "metadata": {},
     "output_type": "execute_result"
    }
   ],
   "source": [
    "data.isnull().sum()"
   ]
  },
  {
   "cell_type": "code",
   "execution_count": 16,
   "metadata": {},
   "outputs": [
    {
     "data": {
      "text/plain": [
       "(0.0, 156990.0)"
      ]
     },
     "execution_count": 16,
     "metadata": {},
     "output_type": "execute_result"
    }
   ],
   "source": [
    "#Impute Attendance\n",
    "data['attendance'].min(),data['attendance'].max()\n"
   ]
  },
  {
   "cell_type": "code",
   "execution_count": 17,
   "metadata": {},
   "outputs": [
    {
     "data": {
      "text/plain": [
       "27138.866994876404"
      ]
     },
     "execution_count": 17,
     "metadata": {},
     "output_type": "execute_result"
    }
   ],
   "source": [
    "imp3=data['attendance'].std()\n",
    "imp3"
   ]
  },
  {
   "cell_type": "code",
   "execution_count": 18,
   "metadata": {},
   "outputs": [
    {
     "data": {
      "text/plain": [
       "id                        0\n",
       "season                    0\n",
       "week                      0\n",
       "season_type               0\n",
       "start_date                0\n",
       "start_time_tbd         5105\n",
       "completed                 0\n",
       "neutral_site              0\n",
       "conference_game           0\n",
       "attendance                0\n",
       "venue_id                123\n",
       "venue                   123\n",
       "home_id                   0\n",
       "home_team                 0\n",
       "home_conference          54\n",
       "home_division            54\n",
       "home_points               0\n",
       "home_line_scores       1797\n",
       "home_post_win_prob    11578\n",
       "home_pregame_elo      12785\n",
       "home_postgame_elo     13217\n",
       "away_id                   0\n",
       "away_team                 0\n",
       "away_conference         335\n",
       "away_division           335\n",
       "away_points               0\n",
       "away_line_scores       1797\n",
       "away_post_win_prob    11578\n",
       "away_pregame_elo      13021\n",
       "away_postgame_elo     13453\n",
       "excitement_index      12416\n",
       "highlights            17628\n",
       "notes                 20598\n",
       "dtype: int64"
      ]
     },
     "execution_count": 18,
     "metadata": {},
     "output_type": "execute_result"
    }
   ],
   "source": [
    "data['attendance'].fillna(imp3, inplace=True)\n",
    "data.isnull().sum()"
   ]
  },
  {
   "cell_type": "code",
   "execution_count": 19,
   "metadata": {},
   "outputs": [],
   "source": [
    "#home_post_win_prob and away_post_win_prob imputation"
   ]
  },
  {
   "cell_type": "code",
   "execution_count": 20,
   "metadata": {},
   "outputs": [
    {
     "data": {
      "text/plain": [
       "0    0.396157\n",
       "1    0.655586\n",
       "2    0.999789\n",
       "3         NaN\n",
       "4    0.995080\n",
       "5         NaN\n",
       "6    0.913625\n",
       "7    0.999811\n",
       "8         NaN\n",
       "9         NaN\n",
       "Name: home_post_win_prob, dtype: float64"
      ]
     },
     "execution_count": 20,
     "metadata": {},
     "output_type": "execute_result"
    }
   ],
   "source": [
    "data['home_post_win_prob'].head(10)"
   ]
  },
  {
   "cell_type": "code",
   "execution_count": 21,
   "metadata": {},
   "outputs": [
    {
     "data": {
      "text/plain": [
       "0.6319609194158525"
      ]
     },
     "execution_count": 21,
     "metadata": {},
     "output_type": "execute_result"
    }
   ],
   "source": [
    "imp4=data['home_post_win_prob'].mean()\n",
    "imp4"
   ]
  },
  {
   "cell_type": "code",
   "execution_count": 22,
   "metadata": {},
   "outputs": [
    {
     "data": {
      "text/plain": [
       "id                        0\n",
       "season                    0\n",
       "week                      0\n",
       "season_type               0\n",
       "start_date                0\n",
       "start_time_tbd         5105\n",
       "completed                 0\n",
       "neutral_site              0\n",
       "conference_game           0\n",
       "attendance                0\n",
       "venue_id                123\n",
       "venue                   123\n",
       "home_id                   0\n",
       "home_team                 0\n",
       "home_conference          54\n",
       "home_division            54\n",
       "home_points               0\n",
       "home_line_scores       1797\n",
       "home_post_win_prob        0\n",
       "home_pregame_elo      12785\n",
       "home_postgame_elo     13217\n",
       "away_id                   0\n",
       "away_team                 0\n",
       "away_conference         335\n",
       "away_division           335\n",
       "away_points               0\n",
       "away_line_scores       1797\n",
       "away_post_win_prob    11578\n",
       "away_pregame_elo      13021\n",
       "away_postgame_elo     13453\n",
       "excitement_index      12416\n",
       "highlights            17628\n",
       "notes                 20598\n",
       "dtype: int64"
      ]
     },
     "execution_count": 22,
     "metadata": {},
     "output_type": "execute_result"
    }
   ],
   "source": [
    "data['home_post_win_prob'].fillna(imp4, inplace=True)\n",
    "data.isnull().sum()"
   ]
  },
  {
   "cell_type": "code",
   "execution_count": 23,
   "metadata": {},
   "outputs": [
    {
     "data": {
      "text/plain": [
       "0    0.603843\n",
       "1    0.344414\n",
       "2    0.000211\n",
       "3         NaN\n",
       "4    0.004920\n",
       "5         NaN\n",
       "6    0.086375\n",
       "7    0.000189\n",
       "8         NaN\n",
       "9         NaN\n",
       "Name: away_post_win_prob, dtype: float64"
      ]
     },
     "execution_count": 23,
     "metadata": {},
     "output_type": "execute_result"
    }
   ],
   "source": [
    "data['away_post_win_prob'].head(10)"
   ]
  },
  {
   "cell_type": "code",
   "execution_count": 24,
   "metadata": {},
   "outputs": [
    {
     "data": {
      "text/plain": [
       "min       0.000001\n",
       "max       0.999702\n",
       "mean      0.368045\n",
       "median    0.149643\n",
       "std       0.400939\n",
       "Name: away_post_win_prob, dtype: float64"
      ]
     },
     "execution_count": 24,
     "metadata": {},
     "output_type": "execute_result"
    }
   ],
   "source": [
    "data['away_post_win_prob'].agg(['min','max','mean','median','std'])"
   ]
  },
  {
   "cell_type": "code",
   "execution_count": 25,
   "metadata": {},
   "outputs": [
    {
     "data": {
      "text/plain": [
       "0.368044910228971"
      ]
     },
     "execution_count": 25,
     "metadata": {},
     "output_type": "execute_result"
    }
   ],
   "source": [
    "imp5=data['away_post_win_prob'].mean()\n",
    "imp5"
   ]
  },
  {
   "cell_type": "code",
   "execution_count": 26,
   "metadata": {},
   "outputs": [
    {
     "data": {
      "text/plain": [
       "id                        0\n",
       "season                    0\n",
       "week                      0\n",
       "season_type               0\n",
       "start_date                0\n",
       "start_time_tbd         5105\n",
       "completed                 0\n",
       "neutral_site              0\n",
       "conference_game           0\n",
       "attendance                0\n",
       "venue_id                123\n",
       "venue                   123\n",
       "home_id                   0\n",
       "home_team                 0\n",
       "home_conference          54\n",
       "home_division            54\n",
       "home_points               0\n",
       "home_line_scores       1797\n",
       "home_post_win_prob        0\n",
       "home_pregame_elo      12785\n",
       "home_postgame_elo     13217\n",
       "away_id                   0\n",
       "away_team                 0\n",
       "away_conference         335\n",
       "away_division           335\n",
       "away_points               0\n",
       "away_line_scores       1797\n",
       "away_post_win_prob        0\n",
       "away_pregame_elo      13021\n",
       "away_postgame_elo     13453\n",
       "excitement_index      12416\n",
       "highlights            17628\n",
       "notes                 20598\n",
       "dtype: int64"
      ]
     },
     "execution_count": 26,
     "metadata": {},
     "output_type": "execute_result"
    }
   ],
   "source": [
    "data['away_post_win_prob'].fillna(imp4, inplace=True)\n",
    "data.isnull().sum()"
   ]
  },
  {
   "cell_type": "markdown",
   "metadata": {},
   "source": [
    "# 4. Data Analysis"
   ]
  },
  {
   "cell_type": "markdown",
   "metadata": {},
   "source": [
    "# Calculate Margin Score For Home Land and Opposing Away Team scores"
   ]
  },
  {
   "cell_type": "code",
   "execution_count": 27,
   "metadata": {},
   "outputs": [
    {
     "name": "stderr",
     "output_type": "stream",
     "text": [
      "C:\\Users\\ASIM\\AppData\\Local\\Temp\\ipykernel_7748\\933149580.py:2: SettingWithCopyWarning: \n",
      "A value is trying to be set on a copy of a slice from a DataFrame.\n",
      "Try using .loc[row_indexer,col_indexer] = value instead\n",
      "\n",
      "See the caveats in the documentation: https://pandas.pydata.org/pandas-docs/stable/user_guide/indexing.html#returning-a-view-versus-a-copy\n",
      "  margin_score['margin'] = margin_score['home_points'] - margin_score['away_points']\n"
     ]
    },
    {
     "data": {
      "text/html": [
       "<div>\n",
       "<style scoped>\n",
       "    .dataframe tbody tr th:only-of-type {\n",
       "        vertical-align: middle;\n",
       "    }\n",
       "\n",
       "    .dataframe tbody tr th {\n",
       "        vertical-align: top;\n",
       "    }\n",
       "\n",
       "    .dataframe thead th {\n",
       "        text-align: right;\n",
       "    }\n",
       "</style>\n",
       "<table border=\"1\" class=\"dataframe\">\n",
       "  <thead>\n",
       "    <tr style=\"text-align: right;\">\n",
       "      <th></th>\n",
       "      <th>home_team</th>\n",
       "      <th>home_points</th>\n",
       "      <th>away_team</th>\n",
       "      <th>away_points</th>\n",
       "      <th>margin</th>\n",
       "    </tr>\n",
       "  </thead>\n",
       "  <tbody>\n",
       "    <tr>\n",
       "      <th>0</th>\n",
       "      <td>Kent State</td>\n",
       "      <td>17.0</td>\n",
       "      <td>Liberty</td>\n",
       "      <td>10.0</td>\n",
       "      <td>7.0</td>\n",
       "    </tr>\n",
       "    <tr>\n",
       "      <th>1</th>\n",
       "      <td>South Carolina</td>\n",
       "      <td>27.0</td>\n",
       "      <td>North Carolina</td>\n",
       "      <td>10.0</td>\n",
       "      <td>17.0</td>\n",
       "    </tr>\n",
       "    <tr>\n",
       "      <th>2</th>\n",
       "      <td>Wake Forest</td>\n",
       "      <td>31.0</td>\n",
       "      <td>Presbyterian College</td>\n",
       "      <td>7.0</td>\n",
       "      <td>24.0</td>\n",
       "    </tr>\n",
       "    <tr>\n",
       "      <th>3</th>\n",
       "      <td>Western Illinois</td>\n",
       "      <td>42.0</td>\n",
       "      <td>Hampton</td>\n",
       "      <td>9.0</td>\n",
       "      <td>33.0</td>\n",
       "    </tr>\n",
       "    <tr>\n",
       "      <th>4</th>\n",
       "      <td>UCF</td>\n",
       "      <td>38.0</td>\n",
       "      <td>Akron</td>\n",
       "      <td>7.0</td>\n",
       "      <td>31.0</td>\n",
       "    </tr>\n",
       "  </tbody>\n",
       "</table>\n",
       "</div>"
      ],
      "text/plain": [
       "          home_team  home_points             away_team  away_points  margin\n",
       "0        Kent State         17.0               Liberty         10.0     7.0\n",
       "1    South Carolina         27.0        North Carolina         10.0    17.0\n",
       "2       Wake Forest         31.0  Presbyterian College          7.0    24.0\n",
       "3  Western Illinois         42.0               Hampton          9.0    33.0\n",
       "4               UCF         38.0                 Akron          7.0    31.0"
      ]
     },
     "execution_count": 27,
     "metadata": {},
     "output_type": "execute_result"
    }
   ],
   "source": [
    "margin_score=data[['home_team','home_points','away_team','away_points']]\n",
    "margin_score['margin'] = margin_score['home_points'] - margin_score['away_points']\n",
    "margin_score.head()"
   ]
  },
  {
   "cell_type": "code",
   "execution_count": 28,
   "metadata": {
    "scrolled": true
   },
   "outputs": [
    {
     "data": {
      "text/plain": [
       "Text(0, 0.5, 'away points')"
      ]
     },
     "execution_count": 28,
     "metadata": {},
     "output_type": "execute_result"
    },
    {
     "data": {
      "image/png": "[encoded data removed]",
      "text/plain": [
       "<Figure size 640x480 with 1 Axes>"
      ]
     },
     "metadata": {},
     "output_type": "display_data"
    }
   ],
   "source": [
    "plt.scatter(data['home_points'], data['away_points'])\n",
    "plt.xlabel('home points')\n",
    "plt.ylabel('away points')"
   ]
  },
  {
   "cell_type": "markdown",
   "metadata": {},
   "source": [
    "# 5.Machine Learning"
   ]
  },
  {
   "cell_type": "markdown",
   "metadata": {},
   "source": [
    "# Regression Analysis"
   ]
  },
  {
   "cell_type": "code",
   "execution_count": 30,
   "metadata": {},
   "outputs": [],
   "source": [
    "#Multi output regression by home points and away points and predict their probablilty"
   ]
  },
  {
   "cell_type": "code",
   "execution_count": 31,
   "metadata": {},
   "outputs": [],
   "source": [
    "x=data[['home_points','away_points']]\n",
    "y=data[['home_post_win_prob','away_post_win_prob']]"
   ]
  },
  {
   "cell_type": "code",
   "execution_count": 32,
   "metadata": {},
   "outputs": [
    {
     "data": {
      "text/plain": [
       "(20841, 2)"
      ]
     },
     "execution_count": 32,
     "metadata": {},
     "output_type": "execute_result"
    }
   ],
   "source": [
    "x.shape\n"
   ]
  },
  {
   "cell_type": "code",
   "execution_count": 33,
   "metadata": {},
   "outputs": [
    {
     "data": {
      "text/plain": [
       "(20841, 2)"
      ]
     },
     "execution_count": 33,
     "metadata": {},
     "output_type": "execute_result"
    }
   ],
   "source": [
    "y.shape"
   ]
  },
  {
   "cell_type": "code",
   "execution_count": 34,
   "metadata": {},
   "outputs": [],
   "source": [
    "from sklearn.model_selection import train_test_split"
   ]
  },
  {
   "cell_type": "code",
   "execution_count": 35,
   "metadata": {},
   "outputs": [],
   "source": [
    "X_train, X_test, y_train, y_test = train_test_split(x, y, test_size=0.2, random_state=42)"
   ]
  },
  {
   "cell_type": "code",
   "execution_count": 36,
   "metadata": {},
   "outputs": [
    {
     "data": {
      "text/plain": [
       "(16672, 2)"
      ]
     },
     "execution_count": 36,
     "metadata": {},
     "output_type": "execute_result"
    }
   ],
   "source": [
    "X_train.shape"
   ]
  },
  {
   "cell_type": "code",
   "execution_count": 37,
   "metadata": {},
   "outputs": [
    {
     "data": {
      "text/plain": [
       "(16672, 2)"
      ]
     },
     "execution_count": 37,
     "metadata": {},
     "output_type": "execute_result"
    }
   ],
   "source": [
    "y_train.shape"
   ]
  },
  {
   "cell_type": "markdown",
   "metadata": {},
   "source": [
    "# Create a multi-output regressor using RandomForestRegressor as the base estimator"
   ]
  },
  {
   "cell_type": "code",
   "execution_count": 38,
   "metadata": {},
   "outputs": [
    {
     "data": {
      "text/html": [
       "<style>#sk-container-id-1 {color: black;}#sk-container-id-1 pre{padding: 0;}#sk-container-id-1 div.sk-toggleable {background-color: white;}#sk-container-id-1 label.sk-toggleable__label {cursor: pointer;display: block;width: 100%;margin-bottom: 0;padding: 0.3em;box-sizing: border-box;text-align: center;}#sk-container-id-1 label.sk-toggleable__label-arrow:before {content: \"▸\";float: left;margin-right: 0.25em;color: #696969;}#sk-container-id-1 label.sk-toggleable__label-arrow:hover:before {color: black;}#sk-container-id-1 div.sk-estimator:hover label.sk-toggleable__label-arrow:before {color: black;}#sk-container-id-1 div.sk-toggleable__content {max-height: 0;max-width: 0;overflow: hidden;text-align: left;background-color: #f0f8ff;}#sk-container-id-1 div.sk-toggleable__content pre {margin: 0.2em;color: black;border-radius: 0.25em;background-color: #f0f8ff;}#sk-container-id-1 input.sk-toggleable__control:checked~div.sk-toggleable__content {max-height: 200px;max-width: 100%;overflow: auto;}#sk-container-id-1 input.sk-toggleable__control:checked~label.sk-toggleable__label-arrow:before {content: \"▾\";}#sk-container-id-1 div.sk-estimator input.sk-toggleable__control:checked~label.sk-toggleable__label {background-color: #d4ebff;}#sk-container-id-1 div.sk-label input.sk-toggleable__control:checked~label.sk-toggleable__label {background-color: #d4ebff;}#sk-container-id-1 input.sk-hidden--visually {border: 0;clip: rect(1px 1px 1px 1px);clip: rect(1px, 1px, 1px, 1px);height: 1px;margin: -1px;overflow: hidden;padding: 0;position: absolute;width: 1px;}#sk-container-id-1 div.sk-estimator {font-family: monospace;background-color: #f0f8ff;border: 1px dotted black;border-radius: 0.25em;box-sizing: border-box;margin-bottom: 0.5em;}#sk-container-id-1 div.sk-estimator:hover {background-color: #d4ebff;}#sk-container-id-1 div.sk-parallel-item::after {content: \"\";width: 100%;border-bottom: 1px solid gray;flex-grow: 1;}#sk-container-id-1 div.sk-label:hover label.sk-toggleable__label {background-color: #d4ebff;}#sk-container-id-1 div.sk-serial::before {content: \"\";position: absolute;border-left: 1px solid gray;box-sizing: border-box;top: 0;bottom: 0;left: 50%;z-index: 0;}#sk-container-id-1 div.sk-serial {display: flex;flex-direction: column;align-items: center;background-color: white;padding-right: 0.2em;padding-left: 0.2em;position: relative;}#sk-container-id-1 div.sk-item {position: relative;z-index: 1;}#sk-container-id-1 div.sk-parallel {display: flex;align-items: stretch;justify-content: center;background-color: white;position: relative;}#sk-container-id-1 div.sk-item::before, #sk-container-id-1 div.sk-parallel-item::before {content: \"\";position: absolute;border-left: 1px solid gray;box-sizing: border-box;top: 0;bottom: 0;left: 50%;z-index: -1;}#sk-container-id-1 div.sk-parallel-item {display: flex;flex-direction: column;z-index: 1;position: relative;background-color: white;}#sk-container-id-1 div.sk-parallel-item:first-child::after {align-self: flex-end;width: 50%;}#sk-container-id-1 div.sk-parallel-item:last-child::after {align-self: flex-start;width: 50%;}#sk-container-id-1 div.sk-parallel-item:only-child::after {width: 0;}#sk-container-id-1 div.sk-dashed-wrapped {border: 1px dashed gray;margin: 0 0.4em 0.5em 0.4em;box-sizing: border-box;padding-bottom: 0.4em;background-color: white;}#sk-container-id-1 div.sk-label label {font-family: monospace;font-weight: bold;display: inline-block;line-height: 1.2em;}#sk-container-id-1 div.sk-label-container {text-align: center;}#sk-container-id-1 div.sk-container {/* jupyter's `normalize.less` sets `[hidden] { display: none; }` but bootstrap.min.css set `[hidden] { display: none !important; }` so we also need the `!important` here to be able to override the default hidden behavior on the sphinx rendered scikit-learn.org. See: https://github.com/scikit-learn/scikit-learn/issues/21755 */display: inline-block !important;position: relative;}#sk-container-id-1 div.sk-text-repr-fallback {display: none;}</style><div id=\"sk-container-id-1\" class=\"sk-top-container\"><div class=\"sk-text-repr-fallback\"><pre>MultiOutputRegressor(estimator=RandomForestRegressor(random_state=42))</pre><b>In a Jupyter environment, please rerun this cell to show the HTML representation or trust the notebook. <br />On GitHub, the HTML representation is unable to render, please try loading this page with nbviewer.org.</b></div><div class=\"sk-container\" hidden><div class=\"sk-item sk-dashed-wrapped\"><div class=\"sk-label-container\"><div class=\"sk-label sk-toggleable\"><input class=\"sk-toggleable__control sk-hidden--visually\" id=\"sk-estimator-id-1\" type=\"checkbox\" ><label for=\"sk-estimator-id-1\" class=\"sk-toggleable__label sk-toggleable__label-arrow\">MultiOutputRegressor</label><div class=\"sk-toggleable__content\"><pre>MultiOutputRegressor(estimator=RandomForestRegressor(random_state=42))</pre></div></div></div><div class=\"sk-parallel\"><div class=\"sk-parallel-item\"><div class=\"sk-item\"><div class=\"sk-label-container\"><div class=\"sk-label sk-toggleable\"><input class=\"sk-toggleable__control sk-hidden--visually\" id=\"sk-estimator-id-2\" type=\"checkbox\" ><label for=\"sk-estimator-id-2\" class=\"sk-toggleable__label sk-toggleable__label-arrow\">estimator: RandomForestRegressor</label><div class=\"sk-toggleable__content\"><pre>RandomForestRegressor(random_state=42)</pre></div></div></div><div class=\"sk-serial\"><div class=\"sk-item\"><div class=\"sk-estimator sk-toggleable\"><input class=\"sk-toggleable__control sk-hidden--visually\" id=\"sk-estimator-id-3\" type=\"checkbox\" ><label for=\"sk-estimator-id-3\" class=\"sk-toggleable__label sk-toggleable__label-arrow\">RandomForestRegressor</label><div class=\"sk-toggleable__content\"><pre>RandomForestRegressor(random_state=42)</pre></div></div></div></div></div></div></div></div></div></div>"
      ],
      "text/plain": [
       "MultiOutputRegressor(estimator=RandomForestRegressor(random_state=42))"
      ]
     },
     "execution_count": 38,
     "metadata": {},
     "output_type": "execute_result"
    }
   ],
   "source": [
    "# Create a multi-output regressor using RandomForestRegressor as the base estimator\n",
    "from sklearn.ensemble import RandomForestRegressor\n",
    "from sklearn.multioutput import MultiOutputRegressor\n",
    "from sklearn.metrics import mean_squared_error\n",
    "\n",
    "base_regressor = RandomForestRegressor(random_state=42)\n",
    "multioutput_regressor = MultiOutputRegressor(base_regressor)\n",
    "\n",
    "# Train the multi-output regressor on the training data\n",
    "multioutput_regressor.fit(X_train, y_train)\n"
   ]
  },
  {
   "cell_type": "code",
   "execution_count": 39,
   "metadata": {},
   "outputs": [
    {
     "data": {
      "text/plain": [
       "0.45689010389720086"
      ]
     },
     "execution_count": 39,
     "metadata": {},
     "output_type": "execute_result"
    }
   ],
   "source": [
    "multioutput_regressor.score(X_train, y_train)"
   ]
  },
  {
   "cell_type": "code",
   "execution_count": 40,
   "metadata": {},
   "outputs": [
    {
     "data": {
      "text/plain": [
       "0.26874559339796333"
      ]
     },
     "execution_count": 40,
     "metadata": {},
     "output_type": "execute_result"
    }
   ],
   "source": [
    "multioutput_regressor.score(X_test, y_test)"
   ]
  },
  {
   "cell_type": "code",
   "execution_count": 41,
   "metadata": {},
   "outputs": [
    {
     "data": {
      "text/plain": [
       "array([[0.49786612, 0.65489008],\n",
       "       [0.57490608, 0.59511158],\n",
       "       [0.72874778, 0.46568   ],\n",
       "       ...,\n",
       "       [0.87706628, 0.20934822],\n",
       "       [0.63890498, 0.4812204 ],\n",
       "       [0.55917407, 0.55984409]])"
      ]
     },
     "execution_count": 41,
     "metadata": {},
     "output_type": "execute_result"
    }
   ],
   "source": [
    "# Make predictions on the test data\n",
    "predictions = multioutput_regressor.predict(X_test)\n",
    "predictions"
   ]
  },
  {
   "cell_type": "markdown",
   "metadata": {},
   "source": [
    "# Evaluation Metrics"
   ]
  },
  {
   "cell_type": "code",
   "execution_count": 42,
   "metadata": {},
   "outputs": [
    {
     "name": "stdout",
     "output_type": "stream",
     "text": [
      "Mean Squared Error: 0.059635551434699965\n"
     ]
    }
   ],
   "source": [
    "# Calculate mean squared error for each target variable\n",
    "mse = mean_squared_error(y_test, predictions)\n",
    "print(f\"Mean Squared Error: {mse}\")"
   ]
  },
  {
   "cell_type": "code",
   "execution_count": 43,
   "metadata": {},
   "outputs": [
    {
     "name": "stdout",
     "output_type": "stream",
     "text": [
      "Mean Absolute Error: 0.1969226264672223\n"
     ]
    }
   ],
   "source": [
    "# Calculate MAE MEAN ABSOLUTE ERROR\n",
    "from sklearn.metrics import mean_absolute_error\n",
    "mae = mean_absolute_error(y_test, predictions)\n",
    "print(\"Mean Absolute Error:\", mae)"
   ]
  },
  {
   "cell_type": "code",
   "execution_count": 44,
   "metadata": {},
   "outputs": [
    {
     "name": "stdout",
     "output_type": "stream",
     "text": [
      "R-squared: 0.26874559339796333\n"
     ]
    }
   ],
   "source": [
    "from sklearn.metrics import r2_score\n",
    "# Calculate R-squared\n",
    "r_squared = r2_score(y_test, predictions)\n",
    "print(\"R-squared:\", r_squared)"
   ]
  },
  {
   "cell_type": "markdown",
   "metadata": {},
   "source": [
    "Demonstrate model fitting and evaluation metric"
   ]
  },
  {
   "cell_type": "code",
   "execution_count": 50,
   "metadata": {},
   "outputs": [
    {
     "data": {
      "text/plain": [
       "<bound method Series.unique of 0              Kent State\n",
       "1          South Carolina\n",
       "2             Wake Forest\n",
       "3        Western Illinois\n",
       "4                     UCF\n",
       "               ...       \n",
       "20836                UTEP\n",
       "20837    New Mexico State\n",
       "20838              Nevada\n",
       "20839             Hawai'i\n",
       "20840                Army\n",
       "Name: home_team, Length: 20841, dtype: object>"
      ]
     },
     "execution_count": 50,
     "metadata": {},
     "output_type": "execute_result"
    }
   ],
   "source": [
    "data['home_team'].unique"
   ]
  },
  {
   "cell_type": "code",
   "execution_count": 52,
   "metadata": {},
   "outputs": [],
   "source": [
    "x=data[['season','home_id','away_id']]\n",
    "y=data[['home_points','away_points']]"
   ]
  },
  {
   "cell_type": "code",
   "execution_count": 53,
   "metadata": {},
   "outputs": [
    {
     "data": {
      "text/plain": [
       "(20841, 3)"
      ]
     },
     "execution_count": 53,
     "metadata": {},
     "output_type": "execute_result"
    }
   ],
   "source": [
    "x.shape"
   ]
  },
  {
   "cell_type": "code",
   "execution_count": 57,
   "metadata": {},
   "outputs": [
    {
     "data": {
      "text/plain": [
       "(20841, 2)"
      ]
     },
     "execution_count": 57,
     "metadata": {},
     "output_type": "execute_result"
    }
   ],
   "source": [
    "y.shape"
   ]
  },
  {
   "cell_type": "code",
   "execution_count": 60,
   "metadata": {},
   "outputs": [],
   "source": [
    "from sklearn.preprocessing import StandardScaler\n",
    "sc_X = StandardScaler()\n",
    "sc_y = StandardScaler()\n",
    "X = sc_X.fit_transform(x)\n",
    "Y = sc_y.fit_transform(y)"
   ]
  },
  {
   "cell_type": "code",
   "execution_count": 61,
   "metadata": {},
   "outputs": [
    {
     "name": "stdout",
     "output_type": "stream",
     "text": [
      "[[-1.76246754 -0.01535859 -0.0550794 ]\n",
      " [-1.76246754  0.00835521 -0.21343283]\n",
      " [-1.76246754 -0.20462984 -0.04266949]\n",
      " ...\n",
      " [ 1.19796655 -0.003853   -0.0248892 ]\n",
      " [ 1.19796655 -0.2127101  -0.22192382]\n",
      " [ 1.19796655 -0.18750321 -0.0484753 ]]\n"
     ]
    }
   ],
   "source": [
    "print(X)"
   ]
  },
  {
   "cell_type": "code",
   "execution_count": 62,
   "metadata": {},
   "outputs": [],
   "source": [
    "from sklearn.model_selection import train_test_split\n",
    "X_train, X_test, y_train, y_test = train_test_split(X, Y, test_size=0.2, random_state=42)"
   ]
  },
  {
   "cell_type": "code",
   "execution_count": 63,
   "metadata": {},
   "outputs": [
    {
     "data": {
      "text/plain": [
       "(16672, 3)"
      ]
     },
     "execution_count": 63,
     "metadata": {},
     "output_type": "execute_result"
    }
   ],
   "source": [
    "X_train.shape"
   ]
  },
  {
   "cell_type": "markdown",
   "metadata": {},
   "source": [
    "# Multioutput Regressor with Random Forest Base"
   ]
  },
  {
   "cell_type": "code",
   "execution_count": 64,
   "metadata": {},
   "outputs": [
    {
     "data": {
      "text/html": [
       "<style>#sk-container-id-2 {color: black;}#sk-container-id-2 pre{padding: 0;}#sk-container-id-2 div.sk-toggleable {background-color: white;}#sk-container-id-2 label.sk-toggleable__label {cursor: pointer;display: block;width: 100%;margin-bottom: 0;padding: 0.3em;box-sizing: border-box;text-align: center;}#sk-container-id-2 label.sk-toggleable__label-arrow:before {content: \"▸\";float: left;margin-right: 0.25em;color: #696969;}#sk-container-id-2 label.sk-toggleable__label-arrow:hover:before {color: black;}#sk-container-id-2 div.sk-estimator:hover label.sk-toggleable__label-arrow:before {color: black;}#sk-container-id-2 div.sk-toggleable__content {max-height: 0;max-width: 0;overflow: hidden;text-align: left;background-color: #f0f8ff;}#sk-container-id-2 div.sk-toggleable__content pre {margin: 0.2em;color: black;border-radius: 0.25em;background-color: #f0f8ff;}#sk-container-id-2 input.sk-toggleable__control:checked~div.sk-toggleable__content {max-height: 200px;max-width: 100%;overflow: auto;}#sk-container-id-2 input.sk-toggleable__control:checked~label.sk-toggleable__label-arrow:before {content: \"▾\";}#sk-container-id-2 div.sk-estimator input.sk-toggleable__control:checked~label.sk-toggleable__label {background-color: #d4ebff;}#sk-container-id-2 div.sk-label input.sk-toggleable__control:checked~label.sk-toggleable__label {background-color: #d4ebff;}#sk-container-id-2 input.sk-hidden--visually {border: 0;clip: rect(1px 1px 1px 1px);clip: rect(1px, 1px, 1px, 1px);height: 1px;margin: -1px;overflow: hidden;padding: 0;position: absolute;width: 1px;}#sk-container-id-2 div.sk-estimator {font-family: monospace;background-color: #f0f8ff;border: 1px dotted black;border-radius: 0.25em;box-sizing: border-box;margin-bottom: 0.5em;}#sk-container-id-2 div.sk-estimator:hover {background-color: #d4ebff;}#sk-container-id-2 div.sk-parallel-item::after {content: \"\";width: 100%;border-bottom: 1px solid gray;flex-grow: 1;}#sk-container-id-2 div.sk-label:hover label.sk-toggleable__label {background-color: #d4ebff;}#sk-container-id-2 div.sk-serial::before {content: \"\";position: absolute;border-left: 1px solid gray;box-sizing: border-box;top: 0;bottom: 0;left: 50%;z-index: 0;}#sk-container-id-2 div.sk-serial {display: flex;flex-direction: column;align-items: center;background-color: white;padding-right: 0.2em;padding-left: 0.2em;position: relative;}#sk-container-id-2 div.sk-item {position: relative;z-index: 1;}#sk-container-id-2 div.sk-parallel {display: flex;align-items: stretch;justify-content: center;background-color: white;position: relative;}#sk-container-id-2 div.sk-item::before, #sk-container-id-2 div.sk-parallel-item::before {content: \"\";position: absolute;border-left: 1px solid gray;box-sizing: border-box;top: 0;bottom: 0;left: 50%;z-index: -1;}#sk-container-id-2 div.sk-parallel-item {display: flex;flex-direction: column;z-index: 1;position: relative;background-color: white;}#sk-container-id-2 div.sk-parallel-item:first-child::after {align-self: flex-end;width: 50%;}#sk-container-id-2 div.sk-parallel-item:last-child::after {align-self: flex-start;width: 50%;}#sk-container-id-2 div.sk-parallel-item:only-child::after {width: 0;}#sk-container-id-2 div.sk-dashed-wrapped {border: 1px dashed gray;margin: 0 0.4em 0.5em 0.4em;box-sizing: border-box;padding-bottom: 0.4em;background-color: white;}#sk-container-id-2 div.sk-label label {font-family: monospace;font-weight: bold;display: inline-block;line-height: 1.2em;}#sk-container-id-2 div.sk-label-container {text-align: center;}#sk-container-id-2 div.sk-container {/* jupyter's `normalize.less` sets `[hidden] { display: none; }` but bootstrap.min.css set `[hidden] { display: none !important; }` so we also need the `!important` here to be able to override the default hidden behavior on the sphinx rendered scikit-learn.org. See: https://github.com/scikit-learn/scikit-learn/issues/21755 */display: inline-block !important;position: relative;}#sk-container-id-2 div.sk-text-repr-fallback {display: none;}</style><div id=\"sk-container-id-2\" class=\"sk-top-container\"><div class=\"sk-text-repr-fallback\"><pre>MultiOutputRegressor(estimator=RandomForestRegressor(random_state=42))</pre><b>In a Jupyter environment, please rerun this cell to show the HTML representation or trust the notebook. <br />On GitHub, the HTML representation is unable to render, please try loading this page with nbviewer.org.</b></div><div class=\"sk-container\" hidden><div class=\"sk-item sk-dashed-wrapped\"><div class=\"sk-label-container\"><div class=\"sk-label sk-toggleable\"><input class=\"sk-toggleable__control sk-hidden--visually\" id=\"sk-estimator-id-4\" type=\"checkbox\" ><label for=\"sk-estimator-id-4\" class=\"sk-toggleable__label sk-toggleable__label-arrow\">MultiOutputRegressor</label><div class=\"sk-toggleable__content\"><pre>MultiOutputRegressor(estimator=RandomForestRegressor(random_state=42))</pre></div></div></div><div class=\"sk-parallel\"><div class=\"sk-parallel-item\"><div class=\"sk-item\"><div class=\"sk-label-container\"><div class=\"sk-label sk-toggleable\"><input class=\"sk-toggleable__control sk-hidden--visually\" id=\"sk-estimator-id-5\" type=\"checkbox\" ><label for=\"sk-estimator-id-5\" class=\"sk-toggleable__label sk-toggleable__label-arrow\">estimator: RandomForestRegressor</label><div class=\"sk-toggleable__content\"><pre>RandomForestRegressor(random_state=42)</pre></div></div></div><div class=\"sk-serial\"><div class=\"sk-item\"><div class=\"sk-estimator sk-toggleable\"><input class=\"sk-toggleable__control sk-hidden--visually\" id=\"sk-estimator-id-6\" type=\"checkbox\" ><label for=\"sk-estimator-id-6\" class=\"sk-toggleable__label sk-toggleable__label-arrow\">RandomForestRegressor</label><div class=\"sk-toggleable__content\"><pre>RandomForestRegressor(random_state=42)</pre></div></div></div></div></div></div></div></div></div></div>"
      ],
      "text/plain": [
       "MultiOutputRegressor(estimator=RandomForestRegressor(random_state=42))"
      ]
     },
     "execution_count": 64,
     "metadata": {},
     "output_type": "execute_result"
    }
   ],
   "source": [
    "# Create a multi-output regressor using RandomForestRegressor as the base estimator\n",
    "from sklearn.ensemble import RandomForestRegressor\n",
    "from sklearn.multioutput import MultiOutputRegressor\n",
    "from sklearn.metrics import mean_squared_error\n",
    "\n",
    "base_regressor = RandomForestRegressor(random_state=42)\n",
    "multioutput_regressor = MultiOutputRegressor(base_regressor)\n",
    "\n",
    "# Train the multi-output regressor on the training data\n",
    "multioutput_regressor.fit(X_train, y_train)"
   ]
  },
  {
   "cell_type": "code",
   "execution_count": 65,
   "metadata": {},
   "outputs": [
    {
     "data": {
      "text/plain": [
       "0.8685325161169188"
      ]
     },
     "execution_count": 65,
     "metadata": {},
     "output_type": "execute_result"
    }
   ],
   "source": [
    "multioutput_regressor.score(X_train, y_train)"
   ]
  },
  {
   "cell_type": "code",
   "execution_count": 66,
   "metadata": {},
   "outputs": [
    {
     "data": {
      "text/plain": [
       "0.09199014669509353"
      ]
     },
     "execution_count": 66,
     "metadata": {},
     "output_type": "execute_result"
    }
   ],
   "source": [
    "multioutput_regressor.score(X_test, y_test)"
   ]
  },
  {
   "cell_type": "code",
   "execution_count": 67,
   "metadata": {},
   "outputs": [],
   "source": [
    "#Overfit here I use home id and away id instead of team "
   ]
  },
  {
   "cell_type": "markdown",
   "metadata": {},
   "source": [
    "# Multiple Linear Regression"
   ]
  },
  {
   "cell_type": "code",
   "execution_count": 71,
   "metadata": {},
   "outputs": [],
   "source": [
    "x2=data[['season','home_id']]\n",
    "y2=data['home_points']"
   ]
  },
  {
   "cell_type": "code",
   "execution_count": 73,
   "metadata": {},
   "outputs": [],
   "source": [
    "from sklearn.model_selection import train_test_split\n",
    "X_train, X_test, y_train, y_test = train_test_split(x2, y2, test_size=0.2, random_state=42)"
   ]
  },
  {
   "cell_type": "code",
   "execution_count": 75,
   "metadata": {},
   "outputs": [
    {
     "data": {
      "text/html": [
       "<style>#sk-container-id-4 {color: black;}#sk-container-id-4 pre{padding: 0;}#sk-container-id-4 div.sk-toggleable {background-color: white;}#sk-container-id-4 label.sk-toggleable__label {cursor: pointer;display: block;width: 100%;margin-bottom: 0;padding: 0.3em;box-sizing: border-box;text-align: center;}#sk-container-id-4 label.sk-toggleable__label-arrow:before {content: \"▸\";float: left;margin-right: 0.25em;color: #696969;}#sk-container-id-4 label.sk-toggleable__label-arrow:hover:before {color: black;}#sk-container-id-4 div.sk-estimator:hover label.sk-toggleable__label-arrow:before {color: black;}#sk-container-id-4 div.sk-toggleable__content {max-height: 0;max-width: 0;overflow: hidden;text-align: left;background-color: #f0f8ff;}#sk-container-id-4 div.sk-toggleable__content pre {margin: 0.2em;color: black;border-radius: 0.25em;background-color: #f0f8ff;}#sk-container-id-4 input.sk-toggleable__control:checked~div.sk-toggleable__content {max-height: 200px;max-width: 100%;overflow: auto;}#sk-container-id-4 input.sk-toggleable__control:checked~label.sk-toggleable__label-arrow:before {content: \"▾\";}#sk-container-id-4 div.sk-estimator input.sk-toggleable__control:checked~label.sk-toggleable__label {background-color: #d4ebff;}#sk-container-id-4 div.sk-label input.sk-toggleable__control:checked~label.sk-toggleable__label {background-color: #d4ebff;}#sk-container-id-4 input.sk-hidden--visually {border: 0;clip: rect(1px 1px 1px 1px);clip: rect(1px, 1px, 1px, 1px);height: 1px;margin: -1px;overflow: hidden;padding: 0;position: absolute;width: 1px;}#sk-container-id-4 div.sk-estimator {font-family: monospace;background-color: #f0f8ff;border: 1px dotted black;border-radius: 0.25em;box-sizing: border-box;margin-bottom: 0.5em;}#sk-container-id-4 div.sk-estimator:hover {background-color: #d4ebff;}#sk-container-id-4 div.sk-parallel-item::after {content: \"\";width: 100%;border-bottom: 1px solid gray;flex-grow: 1;}#sk-container-id-4 div.sk-label:hover label.sk-toggleable__label {background-color: #d4ebff;}#sk-container-id-4 div.sk-serial::before {content: \"\";position: absolute;border-left: 1px solid gray;box-sizing: border-box;top: 0;bottom: 0;left: 50%;z-index: 0;}#sk-container-id-4 div.sk-serial {display: flex;flex-direction: column;align-items: center;background-color: white;padding-right: 0.2em;padding-left: 0.2em;position: relative;}#sk-container-id-4 div.sk-item {position: relative;z-index: 1;}#sk-container-id-4 div.sk-parallel {display: flex;align-items: stretch;justify-content: center;background-color: white;position: relative;}#sk-container-id-4 div.sk-item::before, #sk-container-id-4 div.sk-parallel-item::before {content: \"\";position: absolute;border-left: 1px solid gray;box-sizing: border-box;top: 0;bottom: 0;left: 50%;z-index: -1;}#sk-container-id-4 div.sk-parallel-item {display: flex;flex-direction: column;z-index: 1;position: relative;background-color: white;}#sk-container-id-4 div.sk-parallel-item:first-child::after {align-self: flex-end;width: 50%;}#sk-container-id-4 div.sk-parallel-item:last-child::after {align-self: flex-start;width: 50%;}#sk-container-id-4 div.sk-parallel-item:only-child::after {width: 0;}#sk-container-id-4 div.sk-dashed-wrapped {border: 1px dashed gray;margin: 0 0.4em 0.5em 0.4em;box-sizing: border-box;padding-bottom: 0.4em;background-color: white;}#sk-container-id-4 div.sk-label label {font-family: monospace;font-weight: bold;display: inline-block;line-height: 1.2em;}#sk-container-id-4 div.sk-label-container {text-align: center;}#sk-container-id-4 div.sk-container {/* jupyter's `normalize.less` sets `[hidden] { display: none; }` but bootstrap.min.css set `[hidden] { display: none !important; }` so we also need the `!important` here to be able to override the default hidden behavior on the sphinx rendered scikit-learn.org. See: https://github.com/scikit-learn/scikit-learn/issues/21755 */display: inline-block !important;position: relative;}#sk-container-id-4 div.sk-text-repr-fallback {display: none;}</style><div id=\"sk-container-id-4\" class=\"sk-top-container\"><div class=\"sk-text-repr-fallback\"><pre>LinearRegression()</pre><b>In a Jupyter environment, please rerun this cell to show the HTML representation or trust the notebook. <br />On GitHub, the HTML representation is unable to render, please try loading this page with nbviewer.org.</b></div><div class=\"sk-container\" hidden><div class=\"sk-item\"><div class=\"sk-estimator sk-toggleable\"><input class=\"sk-toggleable__control sk-hidden--visually\" id=\"sk-estimator-id-8\" type=\"checkbox\" checked><label for=\"sk-estimator-id-8\" class=\"sk-toggleable__label sk-toggleable__label-arrow\">LinearRegression</label><div class=\"sk-toggleable__content\"><pre>LinearRegression()</pre></div></div></div></div></div>"
      ],
      "text/plain": [
       "LinearRegression()"
      ]
     },
     "execution_count": 75,
     "metadata": {},
     "output_type": "execute_result"
    }
   ],
   "source": [
    "#training the data set\n",
    "from sklearn.linear_model import LinearRegression\n",
    "regress=LinearRegression()\n",
    "regress.fit(X_train,y_train)"
   ]
  },
  {
   "cell_type": "code",
   "execution_count": 76,
   "metadata": {},
   "outputs": [
    {
     "data": {
      "text/plain": [
       "0.0031883366810028235"
      ]
     },
     "execution_count": 76,
     "metadata": {},
     "output_type": "execute_result"
    }
   ],
   "source": [
    "regress.score(X_train,y_train)"
   ]
  },
  {
   "cell_type": "code",
   "execution_count": 80,
   "metadata": {},
   "outputs": [
    {
     "data": {
      "text/plain": [
       "array([29.83828259, 30.45549128, 31.35573889, ..., 29.62407807,\n",
       "       30.12703405, 30.53316061])"
      ]
     },
     "execution_count": 80,
     "metadata": {},
     "output_type": "execute_result"
    }
   ],
   "source": [
    "# Make predictions on the test data\n",
    "predictions = regress.predict(X_test)\n",
    "predictions"
   ]
  },
  {
   "cell_type": "code",
   "execution_count": 81,
   "metadata": {},
   "outputs": [
    {
     "name": "stdout",
     "output_type": "stream",
     "text": [
      "Mean Squared Error: 218.78665452098704\n"
     ]
    }
   ],
   "source": [
    "# Calculate mean squared error for each target variable\n",
    "mse = mean_squared_error(y_test, predictions)\n",
    "print(f\"Mean Squared Error: {mse}\")"
   ]
  },
  {
   "cell_type": "code",
   "execution_count": 82,
   "metadata": {},
   "outputs": [
    {
     "data": {
      "text/plain": [
       "dtype('int64')"
      ]
     },
     "execution_count": 82,
     "metadata": {},
     "output_type": "execute_result"
    }
   ],
   "source": [
    "data['season'].dtype"
   ]
  },
  {
   "cell_type": "code",
   "execution_count": null,
   "metadata": {},
   "outputs": [],
   "source": []
  }
 ],
 "metadata": {
  "colab": {
   "provenance": []
  },
  "kernelspec": {
   "display_name": "Python 3 (ipykernel)",
   "language": "python",
   "name": "python3"
  },
  "language_info": {
   "codemirror_mode": {
    "name": "ipython",
    "version": 3
   },
   "file_extension": ".py",
   "mimetype": "text/x-python",
   "name": "python",
   "nbconvert_exporter": "python",
   "pygments_lexer": "ipython3",
   "version": "3.8.18"
  }
 },
 "nbformat": 4,
 "nbformat_minor": 1
}
